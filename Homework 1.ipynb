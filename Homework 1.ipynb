{
 "cells": [
  {
   "cell_type": "code",
   "execution_count": 1,
   "metadata": {
    "collapsed": true
   },
   "outputs": [],
   "source": [
    "from __future__ import division\n",
    "\n",
    "import pandas as pd\n",
    "import numpy as np\n",
    "\n",
    "import matplotlib.pyplot as plt\n",
    "from matplotlib import cm\n",
    "import seaborn as sns"
   ]
  },
  {
   "cell_type": "code",
   "execution_count": 2,
   "metadata": {
    "collapsed": false
   },
   "outputs": [
    {
     "name": "stdout",
     "output_type": "stream",
     "text": [
      "Populating the interactive namespace from numpy and matplotlib\n"
     ]
    }
   ],
   "source": [
    "%pylab inline"
   ]
  },
  {
   "cell_type": "markdown",
   "metadata": {},
   "source": [
    "### Problem 1:\n",
    "Write a function that implements the 1-nearest neighbor classifier with Euclidean distance.\n",
    "Your function should take as input a matrix of training feature vectors X and a vector of the\n",
    "corresponding labels Y, as well as a matrix of test feature vectors test. The output should be a\n",
    "vector of predicted labels preds for all the test points. Naturally, you should not use (or look at the\n",
    "source code for) any library functions for computing Euclidean distances, nearest neighbor queries,\n",
    "and so on. If in doubt about what is okay to use, just ask.\n",
    "\n",
    "Instead of using your 1-NN code directly with data and labels as the training data, do the\n",
    "following. For each value n ∈ {1000, 2000, 4000, 8000},\n",
    " - Draw n random points from data, together with their corresponding labels. In Python, use sel = random.sample(xrange(60000),n)\n",
    "(after import random), ocr['data'][sel], and ocr['labels'][sel].\n",
    " - Use these n points as the training data and testdata as the test points, and compute the\n",
    "test error rate of the 1-NN classifier.\n",
    "\n",
    "A plot of the error rate (on the y-axis) as a function of n (on the x-axis) is called a learning curve.\n",
    "We get an estimate of this curve by using the test error rate in place of the (true) error rate.\n",
    "Since the above process involves some randomness, you should repeat it independently several\n",
    "times (say, at least ten times). Produce an estimate of the learning curve plot using the average of\n",
    "these test error rates (that is, averaging over the repeated trials). Add error bars to your plot that\n",
    "extend to one standard deviation above and below the means. Ensure the plot axes are properly\n",
    "labeled. Submit the plot and your source code."
   ]
  },
  {
   "cell_type": "code",
   "execution_count": 3,
   "metadata": {
    "collapsed": true
   },
   "outputs": [],
   "source": [
    "from scipy.spatial.distance import cdist\n",
    "from sklearn.metrics.pairwise import euclidean_distances"
   ]
  },
  {
   "cell_type": "code",
   "execution_count": 4,
   "metadata": {
    "collapsed": true
   },
   "outputs": [],
   "source": [
    "import random"
   ]
  },
  {
   "cell_type": "code",
   "execution_count": 6,
   "metadata": {
    "collapsed": false
   },
   "outputs": [],
   "source": [
    "from scipy.io import loadmat\n",
    "ocr = loadmat('./homework1/data/ocr.mat')"
   ]
  },
  {
   "cell_type": "code",
   "execution_count": 15,
   "metadata": {
    "collapsed": false
   },
   "outputs": [],
   "source": [
    "testdata = ocr['testdata']\n",
    "testlabels = ocr['testlabels']"
   ]
  },
  {
   "cell_type": "code",
   "execution_count": 7,
   "metadata": {
    "collapsed": true
   },
   "outputs": [],
   "source": [
    "def print_image(X):\n",
    "    plt.imshow(X.reshape((28, 28)), cmap=cm.gray_r )\n",
    "    plt.show()"
   ]
  },
  {
   "cell_type": "code",
   "execution_count": 8,
   "metadata": {
    "collapsed": false,
    "scrolled": true
   },
   "outputs": [],
   "source": [
    "def compute_distances(x, Y):\n",
    "    \"\"\" Computes the euclidian ditances between a test vector \n",
    "    and list of training vectors \n",
    "    \"\"\"\n",
    "    return np.sqrt(((x-Y)**2).sum(axis=1))"
   ]
  },
  {
   "cell_type": "code",
   "execution_count": 9,
   "metadata": {
    "collapsed": false
   },
   "outputs": [],
   "source": [
    "sel = random.sample(xrange(60000), 1000) \n",
    "trainingdata = ocr['data'][sel]\n",
    "traininglabels = ocr['labels'][sel]"
   ]
  },
  {
   "cell_type": "code",
   "execution_count": 10,
   "metadata": {
    "collapsed": false
   },
   "outputs": [],
   "source": [
    "X = trainingdata\n",
    "Y = testdata[:2000]"
   ]
  },
  {
   "cell_type": "code",
   "execution_count": null,
   "metadata": {
    "collapsed": false
   },
   "outputs": [],
   "source": [
    "oldidsts"
   ]
  },
  {
   "cell_type": "code",
   "execution_count": 16,
   "metadata": {
    "collapsed": false
   },
   "outputs": [],
   "source": [
    "oldidsts = cdist(X, Y, 'euclidean')"
   ]
  },
  {
   "cell_type": "code",
   "execution_count": 87,
   "metadata": {
    "collapsed": true
   },
   "outputs": [],
   "source": [
    "del euclidean_dist"
   ]
  },
  {
   "cell_type": "code",
   "execution_count": 89,
   "metadata": {
    "collapsed": false
   },
   "outputs": [],
   "source": [
    "newdists = euclidean_dist(X, Y)"
   ]
  },
  {
   "cell_type": "code",
   "execution_count": 58,
   "metadata": {
    "collapsed": true
   },
   "outputs": [],
   "source": [
    "a = np.dot(X, X.T)\n",
    "b = np.dot(X, Y.T)\n",
    "c = np.dot(Y, Y.T)"
   ]
  },
  {
   "cell_type": "code",
   "execution_count": 81,
   "metadata": {
    "collapsed": true
   },
   "outputs": [],
   "source": [
    "ad = np.tile(np.diagonal(a), (Y.shape[0], 1))"
   ]
  },
  {
   "cell_type": "code",
   "execution_count": 82,
   "metadata": {
    "collapsed": true
   },
   "outputs": [],
   "source": [
    "cd = np.tile(np.diagonal(c), (1, 1))"
   ]
  },
  {
   "cell_type": "code",
   "execution_count": 85,
   "metadata": {
    "collapsed": false
   },
   "outputs": [
    {
     "data": {
      "text/plain": [
       "(1000, 2000)"
      ]
     },
     "execution_count": 85,
     "metadata": {},
     "output_type": "execute_result"
    }
   ],
   "source": [
    "(ad.T - 2 * b + cd).shape"
   ]
  },
  {
   "cell_type": "code",
   "execution_count": 7,
   "metadata": {
    "collapsed": true
   },
   "outputs": [],
   "source": [
    "def euclidean_dist(X, Y):\n",
    "    \"\"\" Computes the euclidean distance \n",
    "    Args:\n",
    "        X: matrix of training data\n",
    "        Y: matrix of test data\n",
    "        \n",
    "    Returns:\n",
    "        dists: matrix of euclidean distances\n",
    "    \"\"\"\n",
    "    a = np.dot(X, X.T)\n",
    "    b = np.dot(X, Y.T)\n",
    "    c = np.dot(Y, Y.T)\n",
    "    ad = np.tile(np.diagonal(a), (Y.shape[0] ,1))\n",
    "    cd = np.tile(np.diagonal(c), (1, 1))\n",
    "    return ad.T - 2 * b + cd"
   ]
  },
  {
   "cell_type": "code",
   "execution_count": 8,
   "metadata": {
    "collapsed": true
   },
   "outputs": [],
   "source": [
    "def generate_training_data(sample_size, collection_size):\n",
    "    collection = []\n",
    "    for sample in range(collection_size):\n",
    "        sel = random.sample(xrange(60000), sample_size) \n",
    "        data = ocr['data'][sel]\n",
    "        labels = ocr['labels'][sel]\n",
    "        collection.append({'data':data, 'labels':labels})\n",
    "    \n",
    "    return collection"
   ]
  },
  {
   "cell_type": "code",
   "execution_count": 16,
   "metadata": {
    "collapsed": false
   },
   "outputs": [],
   "source": [
    "def compute_error_rates(sample_size):\n",
    "    actual = [lab[0] for lab in ocr['testlabels']]\n",
    "    error_rates = []\n",
    "    for training in generate_training_data(sample_size, 10):\n",
    "        trainingdata = training['data']\n",
    "        traininglabels = training['labels']\n",
    "        preds = nearest_neighbors(ocr['testdata'], trainingdata, traininglabels)\n",
    "        error_rate = compute_error_rate(preds, actual)\n",
    "        error_rates.append(error_rate)\n",
    "    \n",
    "    return error_rates"
   ]
  },
  {
   "cell_type": "code",
   "execution_count": 17,
   "metadata": {
    "collapsed": true
   },
   "outputs": [],
   "source": [
    "def compute_error_rate(preds, actual):\n",
    "    zipped = zip(preds, actual)\n",
    "    errors = [tup for tup in zipped if tup[0] != tup[1]]\n",
    "    \n",
    "    return len(errors) / len(preds)"
   ]
  },
  {
   "cell_type": "code",
   "execution_count": 18,
   "metadata": {
    "collapsed": true
   },
   "outputs": [],
   "source": [
    "def nearest_neighbors(testdata, trainingdata, traininglabels):\n",
    "    dists = cdist(testdata, trainingdata, 'euclidean')\n",
    "#     dists = euclidean_dist(trainingdata, testdata)\n",
    "    nnixs = np.argmin(dists, axis=1)\n",
    "    preds = [traininglabels[ix][0] for ix in nnixs]\n",
    "\n",
    "    return preds"
   ]
  },
  {
   "cell_type": "code",
   "execution_count": 19,
   "metadata": {
    "collapsed": false
   },
   "outputs": [],
   "source": [
    "onethousand_errors = compute_error_rates(1000)"
   ]
  },
  {
   "cell_type": "code",
   "execution_count": 24,
   "metadata": {
    "collapsed": false
   },
   "outputs": [],
   "source": [
    "twothousand_errors = compute_error_rates(2000)"
   ]
  },
  {
   "cell_type": "code",
   "execution_count": 25,
   "metadata": {
    "collapsed": false
   },
   "outputs": [],
   "source": [
    "fourthousand_errors = compute_error_rates(4000)"
   ]
  },
  {
   "cell_type": "code",
   "execution_count": 28,
   "metadata": {
    "collapsed": true
   },
   "outputs": [],
   "source": [
    "eightthousand_errors = compute_error_rates(8000)"
   ]
  },
  {
   "cell_type": "code",
   "execution_count": 29,
   "metadata": {
    "collapsed": false
   },
   "outputs": [],
   "source": [
    "onek = pd.Series(onethousand_errors)"
   ]
  },
  {
   "cell_type": "code",
   "execution_count": 30,
   "metadata": {
    "collapsed": true
   },
   "outputs": [],
   "source": [
    "twok = pd.Series(twothousand_errors)"
   ]
  },
  {
   "cell_type": "code",
   "execution_count": 31,
   "metadata": {
    "collapsed": true
   },
   "outputs": [],
   "source": [
    "fourk = pd.Series(fourthousand_errors)"
   ]
  },
  {
   "cell_type": "code",
   "execution_count": 32,
   "metadata": {
    "collapsed": false
   },
   "outputs": [],
   "source": [
    "eightk = pd.Series(eightthousand_errors)"
   ]
  },
  {
   "cell_type": "code",
   "execution_count": 37,
   "metadata": {
    "collapsed": false
   },
   "outputs": [],
   "source": [
    "data = pd.DataFrame({'1000': onek, '2000': twok, '4000': fourk, '8000': eightk})"
   ]
  },
  {
   "cell_type": "code",
   "execution_count": 49,
   "metadata": {
    "collapsed": false
   },
   "outputs": [],
   "source": [
    "# sns.tsplot(data=data.mean(), err_style=\"ci_bars\", interpolate=False)"
   ]
  },
  {
   "cell_type": "code",
   "execution_count": 54,
   "metadata": {
    "collapsed": false
   },
   "outputs": [],
   "source": []
  },
  {
   "cell_type": "code",
   "execution_count": 58,
   "metadata": {
    "collapsed": false
   },
   "outputs": [],
   "source": [
    "df = data.mean().reset_index()\n",
    "df.columns = ['sample_size', 'error']\n",
    "melted = pd.melt(data)\n",
    "melted.columns = ['sample_size', 'error']"
   ]
  },
  {
   "cell_type": "code",
   "execution_count": 100,
   "metadata": {
    "collapsed": false
   },
   "outputs": [],
   "source": [
    "# sns.set(rc={'axes.facecolor':'white', 'figure.facecolor':'white'})\n",
    "sns.set_style(\"whitegrid\")"
   ]
  },
  {
   "cell_type": "code",
   "execution_count": 101,
   "metadata": {
    "collapsed": false
   },
   "outputs": [
    {
     "data": {
      "text/plain": [
       "<matplotlib.text.Text at 0x112d6b410>"
      ]
     },
     "execution_count": 101,
     "metadata": {},
     "output_type": "execute_result"
    },
    {
     "data": {
      "image/png": "[encoded data removed]",
      "text/plain": [
       "<matplotlib.figure.Figure at 0x112b52e50>"
      ]
     },
     "metadata": {},
     "output_type": "display_data"
    }
   ],
   "source": [
    "sns.pointplot(x='sample_size', y='error', data=melted, markers=[''], ci=99).set_title('Error Rate')"
   ]
  },
  {
   "cell_type": "markdown",
   "metadata": {
    "collapsed": true
   },
   "source": [
    "### Problem 2:"
   ]
  },
  {
   "cell_type": "markdown",
   "metadata": {},
   "source": [
    "Problem 2 (Na¨ıve Bayes; 20 points). Download the “20 Newsgroups data set” news.mat from\n",
    "Courseworks. The training feature vectors/labels and test feature vectors/labels are stored as\n",
    "data/labels and testdata/testlabels. Each data point corresponds to a message posted to one\n",
    "of 20 different newsgroups (i.e., message boards). The representation of a message is a (sparse)\n",
    "binary vector in X := {0, 1}\n",
    "d\n",
    "(for d := 61188) that indicates the words that are present in the\n",
    "message. \n",
    "\n",
    "If the j-th entry in the vector is 1, it means the message contains the word that is given\n",
    "on the j-th line of the text file news.vocab. The class labels are Y := {1, 2, . . . , 20}, where the\n",
    "mapping from classes to newsgroups is in the file news.groups (which we won’t actually need).\n",
    "In this problem, you’ll develop a classifier based on a Na¨ıve Bayes generative model. Here, we\n",
    "use class conditional distributions of the form\n",
    "$$Pµ(x) = Y\n",
    "d\n",
    "j=1\n",
    "µ\n",
    "xj\n",
    "j\n",
    "(1 − µj )\n",
    "1−xj\n",
    "for x = (x1, x2, . . . , xd) ∈ X $$\n",
    "for some parameter vector µ = (µ1, µ2, . . . , µd) ∈ [0, 1]d\n",
    ". \n",
    "\n",
    "Since there are 20 classes, the generative\n",
    "model is actually parameterized by 20 such vectors, µy = (µy,1, µy,2, . . . , µy,d) for each y ∈ Y, as\n",
    "well as the class prior parameters, πy for each y ∈ Y. The class prior parameters, of course, must\n",
    "satisfy πy ∈ [0, 1] for each y ∈ Y and P\n",
    "y∈Y πy = 1.\n",
    "\n",
    "\n",
    "(a) Give the formula for the MLE of the parameter µy,j based on training data {(xi\n",
    ", yi)}\n",
    "n\n",
    "i=1.\n",
    "(Remember, each unlabeled point is a vector: xi = (xi,1, xi,2, . . . , xi,d) ∈ {0, 1}\n",
    "d\n",
    ".)\n",
    "\n",
    "(b) It turns out the MLE is not a good estimator for the class conditional parameters, especially if\n",
    "the estimate turns out to be zero or one. An alternative to the MLE is the following estimator\n",
    "based on a technique called Laplace smoothing:\n",
    "$$µˆy,j :=\n",
    "1 + Pn\n",
    "i=1 1{yi = y}xi,j\n",
    "2 + Pn\n",
    "i=1 1{yi = y}$$\n",
    "This ensures that ˆµy,j ∈ (0, 1)—never zero nor one.\n",
    "Write a function that takes as input a (sparse) matrix of training feature vectors X and a\n",
    "vector of labels Y (as data and labels above), and returns the parameters params of the\n",
    "classifier based on this Na¨ıve Bayes generative model. Use the Laplace smoothing estimator\n",
    "for the class conditional distribution parameters, and use MLE for the class prior parameters.\n",
    "Naturally, you should not use or look at any existing implementation (e.g., such as those that\n",
    "may be provided as library functions).\n",
    "Also, write a function that takes as input the parameters of the above classifier params, and\n",
    "a matrix of test feature vectors test. The function should output a vector of predictions\n",
    "preds for all test feature vectors.\n",
    "Train and evaluate a classifier using this code and the data from news.mat. Submit your\n",
    "source code, and report the training and test error rates in your write-up. Save the learned\n",
    "classifier for part (c)!\n",
    "\n",
    "(c) The classifier you learn should have the following form: x 7→ arg maxy∈Y αy,0 +\n",
    "Pd\n",
    "j=1 αy,jxj\n",
    "for some real numbers αy,0, αy,1, . . . , αy,d for each y ∈ Y. Compute the values of these αy,j ’s\n",
    "from (the parameters of) your learned classifier from part (b).\n",
    "For each class y ∈ Y, report the vocabulary words whose indices j ∈ {1, 2, . . . , d} correspond\n",
    "to the 20 largest (i.e., most positive) αy,j value. Don’t report the j’s, but rather the actual\n",
    "vocabulary words (from news.vocab)."
   ]
  },
  {
   "cell_type": "code",
   "execution_count": 105,
   "metadata": {
    "collapsed": false
   },
   "outputs": [
    {
     "name": "stderr",
     "output_type": "stream",
     "text": [
      "/Library/Python/2.7/site-packages/numpy/core/fromnumeric.py:2641: VisibleDeprecationWarning: `rank` is deprecated; use the `ndim` attribute or function instead. To find the rank of a matrix see `numpy.linalg.matrix_rank`.\n",
      "  VisibleDeprecationWarning)\n"
     ]
    }
   ],
   "source": [
    "news = loadmat('./homework1/data/news.mat')"
   ]
  },
  {
   "cell_type": "code",
   "execution_count": 106,
   "metadata": {
    "collapsed": false
   },
   "outputs": [],
   "source": [
    "# 7505 x 61188 sparse matrix\n",
    "p2testdata = news['testdata'].toarray()\n",
    "# 7505 x 1 array\n",
    "p2testlabels = news['testlabels']\n",
    "\n",
    "# 11269 x 61188 sparse matrix\n",
    "p2trainingdata = news['data'].toarray()\n",
    "# 11269 x 1 array\n",
    "p2traininglabels = news['labels']"
   ]
  },
  {
   "cell_type": "code",
   "execution_count": 109,
   "metadata": {
    "collapsed": false
   },
   "outputs": [],
   "source": [
    "v = p2traininglabels\n",
    "breakpoints = np.where(v[:-1] != v[1:])[0]\n",
    "Boards = np.array(np.split(p2trainingdata, breakpoints))\n",
    "# mus = np.array([board.mean(axis=1) for board in Boards])\n",
    "# smoothed_mus = np.array([(board.sum(axis=0) + 1) / (board.shape[0] + 2) for board in Boards])"
   ]
  },
  {
   "cell_type": "code",
   "execution_count": 110,
   "metadata": {
    "collapsed": false
   },
   "outputs": [],
   "source": [
    "def fit(X, Y, laplace=False):\n",
    "    \"\"\" Create parameter weightings. \n",
    "    Args:\n",
    "        X: matrix of training feature vectors\n",
    "        Y: vector of labels\n",
    "    \n",
    "    TODO: Assumes labels and training data are sorted!\n",
    "    \"\"\"\n",
    "    breakpoints = np.where(Y[:-1] != Y[1:])[0]\n",
    "    Boards = np.array(np.split(X, breakpoints))\n",
    "    if laplace:\n",
    "        mus = np.array([(board.sum(axis=0) + 1) / (board.shape[0] + 2) for board in Boards])\n",
    "    else: \n",
    "        mus = np.array([board.mean(axis=1) for board in Boards])\n",
    "    \n",
    "    return mus"
   ]
  },
  {
   "cell_type": "code",
   "execution_count": 111,
   "metadata": {
    "collapsed": true
   },
   "outputs": [],
   "source": [
    "def loglikelihoods(Mu, x):\n",
    "    \"\"\" Computes the loglikelihod of a vector for each class \n",
    "    \n",
    "    Args:\n",
    "        Mu: 20 x d matrix of estimated parameter values\n",
    "        x: 1 x d vector of test values\n",
    "        \n",
    "    Returns:\n",
    "        likelihoods: 20 x d matrix of likelihood values\n",
    "    \"\"\"\n",
    "    return x.dot(np.log(Mu)) + (1-x).dot(np.log(1-Mu))"
   ]
  },
  {
   "cell_type": "code",
   "execution_count": 112,
   "metadata": {
    "collapsed": true
   },
   "outputs": [],
   "source": [
    "def posteriors(loglikelihoods, priors):\n",
    "    \"\"\" Computes the posterior \n",
    "    Args:\n",
    "        loglikelihoods: Matrix of loglikelihood values\n",
    "        priors: 1 x d dimensional vector of priors\n",
    "    \n",
    "    Returns:\n",
    "        posteriors: Matrix of posterior values\n",
    "        \n",
    "    TODO: clean up the transpose\n",
    "    \"\"\"\n",
    "    return loglikelihoods.T + np.log(priors)"
   ]
  },
  {
   "cell_type": "code",
   "execution_count": 113,
   "metadata": {
    "collapsed": true
   },
   "outputs": [],
   "source": [
    "def predict(params, testdata, priors):\n",
    "    likelihoods = np.apply_along_axis(loglikelihoods, 1, params, testdata)\n",
    "    posts = posteriors(likelihoods, priors)\n",
    "    preds = posts.argmax(axis=1)\n",
    "    \n",
    "    return preds + 1 # adjust the indicies to match the labels"
   ]
  },
  {
   "cell_type": "code",
   "execution_count": 114,
   "metadata": {
    "collapsed": true
   },
   "outputs": [],
   "source": [
    "## Using the classifier"
   ]
  },
  {
   "cell_type": "code",
   "execution_count": 115,
   "metadata": {
    "collapsed": true
   },
   "outputs": [],
   "source": [
    "priors = np.array([(board.shape[0] / Boards.shape[0]) / 100 for board in Boards])"
   ]
  },
  {
   "cell_type": "code",
   "execution_count": 116,
   "metadata": {
    "collapsed": false
   },
   "outputs": [],
   "source": [
    "params = fit(p2trainingdata, p2traininglabels, laplace=True)"
   ]
  },
  {
   "cell_type": "code",
   "execution_count": 118,
   "metadata": {
    "collapsed": false
   },
   "outputs": [],
   "source": [
    "training_preds = predict(params, p2trainingdata, priors)"
   ]
  },
  {
   "cell_type": "code",
   "execution_count": 119,
   "metadata": {
    "collapsed": true
   },
   "outputs": [],
   "source": [
    "training_errors = compute_error_rate(training_preds, [l[0] for l in p2traininglabels])"
   ]
  },
  {
   "cell_type": "code",
   "execution_count": 120,
   "metadata": {
    "collapsed": false
   },
   "outputs": [
    {
     "data": {
      "text/plain": [
       "0.21705563936462863"
      ]
     },
     "execution_count": 120,
     "metadata": {},
     "output_type": "execute_result"
    }
   ],
   "source": [
    "training_errors"
   ]
  },
  {
   "cell_type": "code",
   "execution_count": 121,
   "metadata": {
    "collapsed": false
   },
   "outputs": [],
   "source": [
    "test_preds = predict(params, p2testdata, priors)"
   ]
  },
  {
   "cell_type": "code",
   "execution_count": 122,
   "metadata": {
    "collapsed": false
   },
   "outputs": [],
   "source": [
    "test_errors = compute_error_rate(test_preds, [l[0] for l in p2testlabels])"
   ]
  },
  {
   "cell_type": "code",
   "execution_count": 123,
   "metadata": {
    "collapsed": false
   },
   "outputs": [
    {
     "data": {
      "text/plain": [
       "0.3786808794137242"
      ]
     },
     "execution_count": 123,
     "metadata": {},
     "output_type": "execute_result"
    }
   ],
   "source": [
    "test_errors"
   ]
  },
  {
   "cell_type": "markdown",
   "metadata": {},
   "source": [
    "#### Question 2 (C)"
   ]
  },
  {
   "cell_type": "code",
   "execution_count": 205,
   "metadata": {
    "collapsed": false
   },
   "outputs": [],
   "source": [
    "alphas = ((np.log(params) - np.log(1-params)).T + np.log(priors))"
   ]
  },
  {
   "cell_type": "code",
   "execution_count": 237,
   "metadata": {
    "collapsed": false
   },
   "outputs": [
    {
     "data": {
      "text/plain": [
       "(20, 61188)"
      ]
     },
     "execution_count": 237,
     "metadata": {},
     "output_type": "execute_result"
    }
   ],
   "source": [
    "alphas.T.shape"
   ]
  },
  {
   "cell_type": "code",
   "execution_count": 267,
   "metadata": {
    "collapsed": false
   },
   "outputs": [
    {
     "data": {
      "text/plain": [
       "array([-7.60298797, -7.60298797, -7.60298797, ...,  1.05570479,\n",
       "        1.08535348,  2.42307114])"
      ]
     },
     "execution_count": 267,
     "metadata": {},
     "output_type": "execute_result"
    }
   ],
   "source": [
    "np.sort((alphas.T[0]))"
   ]
  },
  {
   "cell_type": "code",
   "execution_count": 268,
   "metadata": {
    "collapsed": false
   },
   "outputs": [],
   "source": [
    "ttia = np.argsort(alphas.T)[:, :20]"
   ]
  },
  {
   "cell_type": "code",
   "execution_count": 269,
   "metadata": {
    "collapsed": false
   },
   "outputs": [],
   "source": [
    "ttim = np.argsort(-params)[:20, :]"
   ]
  },
  {
   "cell_type": "code",
   "execution_count": 270,
   "metadata": {
    "collapsed": false
   },
   "outputs": [],
   "source": [
    "vocab = open('./homework1/data/vocab.txt').readlines()\n",
    "vocab = np.array([w[:-1] for w in vocab])"
   ]
  },
  {
   "cell_type": "code",
   "execution_count": 271,
   "metadata": {
    "collapsed": false
   },
   "outputs": [],
   "source": [
    "top_words = []\n",
    "for arr in ttia:\n",
    "    top_word = list(vocab[arr])\n",
    "    top_words.append(top_word)"
   ]
  },
  {
   "cell_type": "code",
   "execution_count": 272,
   "metadata": {
    "collapsed": false
   },
   "outputs": [],
   "source": [
    "twa = np.apply_along_axis(lambda x: vocab[x], 0, ttia)"
   ]
  },
  {
   "cell_type": "code",
   "execution_count": 273,
   "metadata": {
    "collapsed": true
   },
   "outputs": [],
   "source": [
    "twm = np.apply_along_axis(lambda x: vocab[x], 0, ttim)"
   ]
  },
  {
   "cell_type": "code",
   "execution_count": 274,
   "metadata": {
    "collapsed": false
   },
   "outputs": [],
   "source": [
    "tdf = pd.DataFrame(twa)"
   ]
  },
  {
   "cell_type": "markdown",
   "metadata": {},
   "source": [
    "## Problem 3\n",
    "\n",
    "(Cost-sensitive classification; 10 points). Suppose you face a binary classification problem\n",
    "with input space X = R and output space Y = {0, 1}, where it is c times as bad to commit a\n",
    "“false positive” as it is to commit a “false negative” (for some real number c ≥ 1). To make this\n",
    "concrete, let’s say that if your classifier predicts 1 but the correct label is 0, you incur a penalty of\n",
    "✩c; if your classifier predicts 0 but the correct label is 1, you incur a penalty of ✩1. (And you incur\n",
    "no penalty if your classifier predicts the correct label.)\n",
    "Assume the distribution you care about has a class prior with π0 = 2/3 and π1 = 1/3, and the\n",
    "class conditional densities are N(0, 1) for class 0, and N(1, 1/4) for class 1. Let f\n",
    "?\n",
    ": R → {0, 1} be\n",
    "the classifier with the smallest expected penalty."
   ]
  },
  {
   "cell_type": "code",
   "execution_count": null,
   "metadata": {
    "collapsed": true
   },
   "outputs": [],
   "source": []
  },
  {
   "cell_type": "markdown",
   "metadata": {},
   "source": [
    "## Problem 4 \n",
    "(Probability; 10 points). Suppose you have an urn containing 100 colored balls. Each\n",
    "ball is painted with one of five possible colors from the color set C := {red, orange, yellow, green, blue}.\n",
    "For each c ∈ C, let nc denote the number of balls in the urn with color c."
   ]
  },
  {
   "cell_type": "markdown",
   "metadata": {},
   "source": [
    "The probability that two randomly selected balls have different colors is one minus the probability that any two colored balls are selected.  Since the probability of selecting two balls of the same color simultaneously is the $\\big(\\frac{n_{color}}{100})^2$, the probability of choosing two similarly colored balls is the probability of selecting two of any of the colors, which is just the sum of the probabilities of any one of the colors.  The probability of not getting any two colors is the complement of that, or\n",
    "\n",
    "$$ P(difference) = 1 - \\frac{1}{100^2} (n_r^2 + n_o^2 + n_y^2 + n_g^2 + n_b^2)  $$"
   ]
  },
  {
   "cell_type": "code",
   "execution_count": null,
   "metadata": {
    "collapsed": true
   },
   "outputs": [],
   "source": []
  },
  {
   "cell_type": "markdown",
   "metadata": {},
   "source": [
    "#### Jetsam"
   ]
  },
  {
   "cell_type": "code",
   "execution_count": null,
   "metadata": {
    "collapsed": true
   },
   "outputs": [],
   "source": [
    "def group(lst, n):\n",
    "  for i in range(0, len(lst), n):\n",
    "    val = lst[i:i+n]\n",
    "    if len(val) == n:\n",
    "      yield tuple(val)"
   ]
  },
  {
   "cell_type": "code",
   "execution_count": null,
   "metadata": {
    "collapsed": true
   },
   "outputs": [],
   "source": [
    "dists = np.apply_along_axis(compute_distances, 1, testdata, trainingdata)"
   ]
  },
  {
   "cell_type": "code",
   "execution_count": null,
   "metadata": {
    "collapsed": true
   },
   "outputs": [],
   "source": [
    "training_datasets = {}\n",
    "for n in [1000, 2000, 4000, 8000]:\n",
    "    samples = []\n",
    "    for sample in range(10):\n",
    "        sel = random.sample(xrange(60000), n) \n",
    "        data = ocr['data'][sel]\n",
    "        labels = ocr['labels'][sel]\n",
    "        samples.append({'data':data, 'labels':labels})\n",
    "    training_datasets[n] = samples"
   ]
  },
  {
   "cell_type": "code",
   "execution_count": null,
   "metadata": {
    "collapsed": true
   },
   "outputs": [],
   "source": [
    "def nn(ix, testdata, testlabels, training_data, training_labels):\n",
    "    distances = compute_distances(testdata[ix], training_data)\n",
    "    minima = np.argmin(distances)\n",
    "    predicted_label = predict(minima, training_labels)\n",
    "    actual_label = testlabels[ix][0]\n",
    "    check_prediction(predicted_label, actual_label)"
   ]
  }
 ],
 "metadata": {
  "kernelspec": {
   "display_name": "Python 2",
   "language": "python",
   "name": "python2"
  },
  "language_info": {
   "codemirror_mode": {
    "name": "ipython",
    "version": 2
   },
   "file_extension": ".py",
   "mimetype": "text/x-python",
   "name": "python",
   "nbconvert_exporter": "python",
   "pygments_lexer": "ipython2",
   "version": "2.7.10"
  }
 },
 "nbformat": 4,
 "nbformat_minor": 0
}
