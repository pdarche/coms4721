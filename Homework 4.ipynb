{
 "cells": [
  {
   "cell_type": "code",
   "execution_count": 213,
   "metadata": {
    "collapsed": true
   },
   "outputs": [],
   "source": [
    "from __future__ import division\n",
    "import pandas as pd\n",
    "import numpy as np\n",
    "\n",
    "import seaborn as sns\n",
    "from matplotlib import pyplot as plt"
   ]
  },
  {
   "cell_type": "code",
   "execution_count": 214,
   "metadata": {
    "collapsed": false
   },
   "outputs": [
    {
     "name": "stdout",
     "output_type": "stream",
     "text": [
      "Populating the interactive namespace from numpy and matplotlib\n"
     ]
    }
   ],
   "source": [
    "%pylab inline"
   ]
  },
  {
   "cell_type": "code",
   "execution_count": 215,
   "metadata": {
    "collapsed": false
   },
   "outputs": [],
   "source": [
    "ratings_train = pd.read_csv('./homework4/data/ratings_train.csv', header=None)\n",
    "ratings_test = pd.read_csv('./homework4/data/ratings_test.csv', header=None)\n",
    "ratings_fake = pd.read_csv('./homework4/data/ratings_fake.csv', header=None)"
   ]
  },
  {
   "cell_type": "code",
   "execution_count": 216,
   "metadata": {
    "collapsed": true
   },
   "outputs": [],
   "source": [
    "ratings_train.columns = ['user', 'movie', 'rating']\n",
    "ratings_test.columns = ['user', 'movie', 'rating']\n",
    "ratings_fake.columns = ['user', 'movie', 'rating']"
   ]
  },
  {
   "cell_type": "code",
   "execution_count": 394,
   "metadata": {
    "collapsed": false
   },
   "outputs": [],
   "source": [
    "# A = ratings_fake.pivot(index='user', columns='movie').as_matrix()\n",
    "A = ratings_train.pivot(index='user', columns='movie').fillna(0).as_matrix()\n",
    "# A = ratings_test.pivot(index='user', columns='movie') #.as_matrix()"
   ]
  },
  {
   "cell_type": "code",
   "execution_count": 422,
   "metadata": {
    "collapsed": false
   },
   "outputs": [
    {
     "data": {
      "text/plain": [
       "array([[ 1.,  0.,  0.,  0.,  0.],\n",
       "       [ 0.,  1.,  0.,  0.,  0.],\n",
       "       [ 0.,  0.,  1.,  0.,  0.],\n",
       "       [ 0.,  0.,  0.,  1.,  0.],\n",
       "       [ 0.,  0.,  0.,  0.,  1.]])"
      ]
     },
     "execution_count": 422,
     "metadata": {},
     "output_type": "execute_result"
    }
   ],
   "source": []
  },
  {
   "cell_type": "code",
   "execution_count": 493,
   "metadata": {
    "collapsed": false
   },
   "outputs": [],
   "source": [
    "def optimize_U(U, V, B, C, mu, A):\n",
    "    Uis = []\n",
    "    reg = 2 * lamb * np.identity(k)\n",
    "    for i in range(m):\n",
    "        right = 0, \n",
    "        left = 0\n",
    "        if not pd.Series(A[i]).isnull().all():\n",
    "            for j in range(n):\n",
    "                if A[i, j]:\n",
    "                    right += (B[i] + C[j] + mu - A[i,j]) * V[j]\n",
    "                    left += np.outer(V[j], V[j].T)\n",
    "            Ui = -np.dot(np.linalg.inv(left + reg), right)\n",
    "        else:\n",
    "            Ui = U[i]\n",
    "        Uis.append(Ui)\n",
    "    return np.array(Uis)"
   ]
  },
  {
   "cell_type": "code",
   "execution_count": 494,
   "metadata": {
    "collapsed": false
   },
   "outputs": [],
   "source": [
    "def optimize_V(U, V, B, C, mu, A):\n",
    "    Vjs = []\n",
    "    reg = 2 * lamb * np.identity(k)\n",
    "    for j in range(n):\n",
    "        right = 0, \n",
    "        left = 0\n",
    "        if not pd.Series(A[:, j]).isnull().all():  \n",
    "            for i in range(m):\n",
    "                if A[i, j]:\n",
    "                    right += (B[i] + C[j] + mu - A[i, j]) * U[i]\n",
    "                    left += np.outer(U[i], U[i].T)\n",
    "            Vj = -np.dot(np.linalg.inv(left + reg), right)\n",
    "        else:\n",
    "            Vj = V[j]\n",
    "        Vjs.append(Vj)\n",
    "    return np.array(Vjs)"
   ]
  },
  {
   "cell_type": "code",
   "execution_count": 495,
   "metadata": {
    "collapsed": true
   },
   "outputs": [],
   "source": [
    "def optimize_B(U, V, B, C, mu, A):\n",
    "    Bis = []\n",
    "    for i in range(m):\n",
    "        b = 0\n",
    "        if not pd.Series(A[i]).isnull().all():         \n",
    "            for j in range(n):\n",
    "                if A[i,j]:\n",
    "                    b += -(np.dot(U[i], V[j]) + C[j] + mu - A[i,j]) / n\n",
    "        else:\n",
    "            b = B[i]\n",
    "        Bis.append(b)\n",
    "    return np.array(Bis)"
   ]
  },
  {
   "cell_type": "code",
   "execution_count": 496,
   "metadata": {
    "collapsed": true
   },
   "outputs": [],
   "source": [
    "def optimize_C(U, V, B, C, mu, A):\n",
    "    Cjs = []\n",
    "    for j in range(n):\n",
    "        c = 0\n",
    "        if not pd.Series(A[:, j]).isnull().all():\n",
    "            for i in range(m):\n",
    "                if A[i,j]:\n",
    "                    c += -(np.dot(U[i], V[j]) + B[i] + mu - A[i,j]) / m\n",
    "        else:\n",
    "            c = C[j]\n",
    "        Cjs.append(c)\n",
    "    return np.array(Cjs)"
   ]
  },
  {
   "cell_type": "code",
   "execution_count": 497,
   "metadata": {
    "collapsed": false
   },
   "outputs": [],
   "source": [
    "def update_params(B, U, C, V):\n",
    "    B = optimize_B(U, V, B, C, mu, A)\n",
    "    U = optimize_U(U, V, B, C, mu, A)\n",
    "    C = optimize_C(U, V, B, C, mu, A)\n",
    "    V = optimize_V(U, V, B, C, mu, A)\n",
    "    return (B, U, C, V)"
   ]
  },
  {
   "cell_type": "code",
   "execution_count": 498,
   "metadata": {
    "collapsed": true
   },
   "outputs": [],
   "source": [
    "def log_likelihood(B, U, C, V, mu, A):\n",
    "    lls = 0\n",
    "    for i in range(U.shape[0]):\n",
    "        for j in range(V.shape[0]):\n",
    "            if A[i, j]:\n",
    "                lls += (np.dot(U[i], V[j]) + B[i] + C[j] + mu - A[i,j])**2\n",
    "    return -(lls.sum()) / 2"
   ]
  },
  {
   "cell_type": "code",
   "execution_count": 499,
   "metadata": {
    "collapsed": true
   },
   "outputs": [],
   "source": [
    "def rmse(B, U, C, V, mu, A):\n",
    "    card = 1/A.size"
   ]
  },
  {
   "cell_type": "code",
   "execution_count": 500,
   "metadata": {
    "collapsed": false
   },
   "outputs": [],
   "source": [
    "# def log_likelihood(B, U, C, V, mu, A):\n",
    "#     lls = []\n",
    "#     for i in range(m):\n",
    "#         lls.append((np.dot(V, U[i]) + B[i] + C + mu + A[i,:])**2)\n",
    "#     return -(np.array(lls).sum()) / 2"
   ]
  },
  {
   "cell_type": "code",
   "execution_count": 501,
   "metadata": {
    "collapsed": false
   },
   "outputs": [],
   "source": [
    "mu = A.mean()\n",
    "m = A.shape[0]\n",
    "n = A.shape[1]\n",
    "k = 10\n",
    "T = 40\n",
    "B = np.zeros(m)\n",
    "C = np.zeros(n)\n",
    "U = np.random.multivariate_normal(np.zeros(k), (1/k) * np.identity(k), (m))\n",
    "V = np.random.multivariate_normal(np.zeros(k), (1/k) * np.identity(k), (n))\n",
    "lamb = 10"
   ]
  },
  {
   "cell_type": "code",
   "execution_count": null,
   "metadata": {
    "collapsed": false
   },
   "outputs": [
    {
     "name": "stdout",
     "output_type": "stream",
     "text": [
      "-502129.921559\n",
      "-135309.044445\n",
      "-48328.7471948"
     ]
    }
   ],
   "source": [
    "v = []\n",
    "for t in range(20):\n",
    "    v.append(log_likelihood(B, U, C, V, mu, A))\n",
    "    print v[t]\n",
    "    B, U, C, V = update_params(B, U, C, V)"
   ]
  },
  {
   "cell_type": "code",
   "execution_count": 492,
   "metadata": {
    "collapsed": false
   },
   "outputs": [
    {
     "data": {
      "text/plain": [
       "<matplotlib.text.Text at 0x10b3ea510>"
      ]
     },
     "execution_count": 492,
     "metadata": {},
     "output_type": "execute_result"
    },
    {
     "data": {
      "image/png": "[encoded data removed]",
      "text/plain": [
       "<matplotlib.figure.Figure at 0x10b1ca890>"
      ]
     },
     "metadata": {},
     "output_type": "display_data"
    }
   ],
   "source": [
    "plt.plot(v)\n",
    "plt.title('Alternating Least Squares Likelihood')\n",
    "plt.xlabel('Iterations')\n",
    "plt.ylabel('Log Likelihood')"
   ]
  },
  {
   "cell_type": "code",
   "execution_count": null,
   "metadata": {
    "collapsed": false
   },
   "outputs": [],
   "source": [
    "def clip(z):\n",
    "    if z < 1:\n",
    "        return 1\n",
    "    if z >= 1 and z <= 5:\n",
    "        return z\n",
    "    if z > 5:\n",
    "        return 5"
   ]
  },
  {
   "cell_type": "code",
   "execution_count": null,
   "metadata": {
    "collapsed": true
   },
   "outputs": [],
   "source": []
  }
 ],
 "metadata": {
  "kernelspec": {
   "display_name": "Python 2",
   "language": "python",
   "name": "python2"
  },
  "language_info": {
   "codemirror_mode": {
    "name": "ipython",
    "version": 2
   },
   "file_extension": ".py",
   "mimetype": "text/x-python",
   "name": "python",
   "nbconvert_exporter": "python",
   "pygments_lexer": "ipython2",
   "version": "2.7.10"
  }
 },
 "nbformat": 4,
 "nbformat_minor": 0
}
