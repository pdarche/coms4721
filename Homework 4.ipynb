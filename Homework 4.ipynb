{
 "cells": [
  {
   "cell_type": "code",
   "execution_count": 1,
   "metadata": {
    "collapsed": true
   },
   "outputs": [],
   "source": [
    "from __future__ import division\n",
    "import pandas as pd\n",
    "import numpy as np\n",
    "\n",
    "import seaborn as sns\n",
    "from matplotlib import pyplot as plt"
   ]
  },
  {
   "cell_type": "code",
   "execution_count": 2,
   "metadata": {
    "collapsed": false
   },
   "outputs": [
    {
     "name": "stdout",
     "output_type": "stream",
     "text": [
      "Populating the interactive namespace from numpy and matplotlib\n"
     ]
    }
   ],
   "source": [
    "%pylab inline"
   ]
  },
  {
   "cell_type": "code",
   "execution_count": 3,
   "metadata": {
    "collapsed": false
   },
   "outputs": [],
   "source": [
    "ratings_train = pd.read_csv('./homework4/data/ratings_train.csv', header=None)\n",
    "ratings_test = pd.read_csv('./homework4/data/ratings_test.csv', header=None)\n",
    "ratings_fake = pd.read_csv('./homework4/data/ratings_fake.csv', header=None)"
   ]
  },
  {
   "cell_type": "code",
   "execution_count": 4,
   "metadata": {
    "collapsed": true
   },
   "outputs": [],
   "source": [
    "ratings_train.columns = ['user', 'movie', 'rating']\n",
    "ratings_test.columns = ['user', 'movie', 'rating']\n",
    "ratings_fake.columns = ['user', 'movie', 'rating']"
   ]
  },
  {
   "cell_type": "code",
   "execution_count": 5,
   "metadata": {
    "collapsed": false
   },
   "outputs": [],
   "source": [
    "A = ratings_fake.pivot(index='user', columns='movie').as_matrix()"
   ]
  },
  {
   "cell_type": "code",
   "execution_count": 6,
   "metadata": {
    "collapsed": true
   },
   "outputs": [],
   "source": [
    "def optimize_U(U, V, B, C, mu, A):\n",
    "    Us = []\n",
    "    for i in range(U.shape[0]):\n",
    "        right = 0\n",
    "        left = 0\n",
    "        for j in range(V.shape[0]):\n",
    "            right += (-(B[i] + C[j] + mu - A[i, j]) * V[j])\n",
    "            left += np.outer(V[j], V[j].T)\n",
    "        Ui = np.dot(np.linalg.inv(left), right)\n",
    "        Us.append(Ui)\n",
    "\n",
    "    return np.array(Us)"
   ]
  },
  {
   "cell_type": "code",
   "execution_count": 7,
   "metadata": {
    "collapsed": true
   },
   "outputs": [],
   "source": [
    "def optimize_V(U, V, B, C, mu, A):\n",
    "    Vs = []\n",
    "    for j in range(V.shape[0]):\n",
    "        rights = 0\n",
    "        lefts = 0\n",
    "        for i in range(U.shape[0]):\n",
    "            rights += -(B[i] + C[j] + mu - A[i, j]) * U[i] \n",
    "            lefts += np.outer(U[i], U[i].T)\n",
    "        Vj = np.dot(np.linalg.inv(lefts), rights)\n",
    "        Vs.append(Vj)\n",
    "\n",
    "    return np.array(Vs)"
   ]
  },
  {
   "cell_type": "code",
   "execution_count": 8,
   "metadata": {
    "collapsed": true
   },
   "outputs": [],
   "source": [
    "def optimize_B(U, V, B, C, mu, A):\n",
    "    Bs = []\n",
    "    for i in range(U.shape[0]):\n",
    "        b = 0\n",
    "        for j in range(V.shape[0]):\n",
    "            b += -(np.dot(U[i], V[j]) + B[i] + C[j] + mu - A[i, j]) / V.shape[0]\n",
    "        Bs.append(b)\n",
    "    return np.array(Bs)"
   ]
  },
  {
   "cell_type": "code",
   "execution_count": 9,
   "metadata": {
    "collapsed": true
   },
   "outputs": [],
   "source": [
    "def optimize_C(U, V, B, C, mu, A):\n",
    "    Cs = []\n",
    "    for j in range(V.shape[0]):\n",
    "        c = 0\n",
    "        for i in range(U.shape[0]):\n",
    "            c += -(np.dot(U[i], V[j]) + B[i] + C[j] + mu - A[i, j]) / U.shape[0]\n",
    "        Cs.append(c)\n",
    "    return np.array(Cs)"
   ]
  },
  {
   "cell_type": "code",
   "execution_count": 10,
   "metadata": {
    "collapsed": true
   },
   "outputs": [],
   "source": [
    "def update(U, V, B, C, mu, A):\n",
    "    sums = 0\n",
    "    for i in range(U.shape[0]):\n",
    "        for j in range(V.shape[0]):\n",
    "            sums += -(np.dot(U[i], V[j]) + B[i] + C[j] + mu - A[i,j])\n",
    "    return sums.sum()"
   ]
  },
  {
   "cell_type": "code",
   "execution_count": 11,
   "metadata": {
    "collapsed": false
   },
   "outputs": [],
   "source": [
    "def optimize_params(U, V, B, C):\n",
    "    B = optimize_B(U, V, B, C, mu, A)\n",
    "    U = optimize_U(U, V, B, C, mu, A)\n",
    "    C = optimize_C(U, V, B, C, mu, A) \n",
    "    V = optimize_V(U, V, B, C, mu, A)\n",
    "    return (B, U, C, V)"
   ]
  },
  {
   "cell_type": "code",
   "execution_count": 17,
   "metadata": {
    "collapsed": false
   },
   "outputs": [],
   "source": [
    "mu = A.mean()\n",
    "m = A.shape[0]\n",
    "n = A.shape[1]\n",
    "k = 5\n",
    "T = 20\n",
    "B = np.zeros(m)\n",
    "C = np.zeros(n)\n",
    "U = np.random.multivariate_normal(np.zeros(k), (1/k) * np.identity(k), (m))\n",
    "V = np.random.multivariate_normal(np.zeros(k), (1/k) * np.identity(k), (n))"
   ]
  },
  {
   "cell_type": "code",
   "execution_count": 18,
   "metadata": {
    "collapsed": false
   },
   "outputs": [
    {
     "name": "stdout",
     "output_type": "stream",
     "text": [
      "-10.7827753521\n",
      "-3783.95587834\n",
      "-115.891799254\n",
      "-174.769292082\n",
      "-40.3676329605\n",
      "-9.47186378892\n",
      "-5.36013738568\n",
      "-4.11921861836\n",
      "-3.92279909646\n",
      "-3.90534532118\n",
      "-3.94236430285\n",
      "-3.97853595878\n",
      "-4.00678143483\n",
      "-4.02672182979\n",
      "-4.04043596518\n",
      "-4.04977684943\n",
      "-4.05614322535\n",
      "-4.06049973481\n",
      "-4.06349721299\n",
      "-4.06557152102\n"
     ]
    }
   ],
   "source": [
    "for t in range(T):\n",
    "    B, U, C, V = optimize_params(U, V, B, C)\n",
    "    print update(U, V, B, C, mu, A)"
   ]
  },
  {
   "cell_type": "code",
   "execution_count": 239,
   "metadata": {
    "collapsed": false
   },
   "outputs": [
    {
     "data": {
      "text/plain": [
       "<matplotlib.axes._subplots.AxesSubplot at 0x10874bb90>"
      ]
     },
     "execution_count": 239,
     "metadata": {},
     "output_type": "execute_result"
    },
    {
     "data": {
      "image/png": "[encoded data removed]",
      "text/plain": [
       "<matplotlib.figure.Figure at 0x10916eed0>"
      ]
     },
     "metadata": {},
     "output_type": "display_data"
    }
   ],
   "source": [
    "pd.Series(c).plot()"
   ]
  },
  {
   "cell_type": "code",
   "execution_count": 216,
   "metadata": {
    "collapsed": false
   },
   "outputs": [],
   "source": [
    "lefts = []\n",
    "for j in range(V.shape[0]):\n",
    "    arr = np.dot(V[j], V[j].T)\n",
    "    lefts.append(arr)\n",
    "lefts = np.array(lefts)\n",
    "lefts = np.linalg.inv([[lefts.sum()]])"
   ]
  },
  {
   "cell_type": "code",
   "execution_count": 170,
   "metadata": {
    "collapsed": false
   },
   "outputs": [],
   "source": [
    "right = []\n",
    "for i in range(U.shape[0]):\n",
    "    js = []\n",
    "    for j in range(V.shape[0]):\n",
    "        r = (B[i] + C[j] + mu - A[i, j]) * V[j]\n",
    "        js.append(r)\n",
    "    right.append(np.array(js).sum(axis=0))\n",
    "right = np.array(right)"
   ]
  },
  {
   "cell_type": "code",
   "execution_count": null,
   "metadata": {
    "collapsed": false
   },
   "outputs": [],
   "source": []
  },
  {
   "cell_type": "code",
   "execution_count": 207,
   "metadata": {
    "collapsed": false
   },
   "outputs": [],
   "source": [
    "# def non_u_component(U, B, C, mu, A):\n",
    "#     new_vec = []\n",
    "#     for i in range(U.shape[0]):\n",
    "#         s = (B[i] + C + mu - A[i, :])\n",
    "#         new_vec.append(s)\n",
    "#         nuc = np.array(new_vec)\n",
    "#     return nuc * V"
   ]
  },
  {
   "cell_type": "code",
   "execution_count": 166,
   "metadata": {
    "collapsed": true
   },
   "outputs": [],
   "source": [
    "# def non_v_component(U, B, C, mu, A):\n",
    "#     new_vec = []\n",
    "#     for i in range(V.shape[0]):\n",
    "#         s = (B[i] + C + mu - A[i, :]) * V\n",
    "#         new_vec.append(s)\n",
    "#         nc = np.array(new_vec)\n",
    "#     return nc"
   ]
  },
  {
   "cell_type": "code",
   "execution_count": null,
   "metadata": {
    "collapsed": true
   },
   "outputs": [],
   "source": []
  }
 ],
 "metadata": {
  "kernelspec": {
   "display_name": "Python 2",
   "language": "python",
   "name": "python2"
  },
  "language_info": {
   "codemirror_mode": {
    "name": "ipython",
    "version": 2
   },
   "file_extension": ".py",
   "mimetype": "text/x-python",
   "name": "python",
   "nbconvert_exporter": "python",
   "pygments_lexer": "ipython2",
   "version": "2.7.10"
  }
 },
 "nbformat": 4,
 "nbformat_minor": 0
}
