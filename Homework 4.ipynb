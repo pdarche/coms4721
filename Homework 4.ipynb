{
 "cells": [
  {
   "cell_type": "code",
   "execution_count": 132,
   "metadata": {
    "collapsed": true
   },
   "outputs": [],
   "source": [
    "from __future__ import division\n",
    "import pandas as pd\n",
    "import numpy as np\n",
    "\n",
    "import seaborn as sns\n",
    "from matplotlib import pyplot as plt"
   ]
  },
  {
   "cell_type": "code",
   "execution_count": 159,
   "metadata": {
    "collapsed": false
   },
   "outputs": [],
   "source": [
    "ratings_train = pd.read_csv('./homework4/data/ratings_train.csv', header=None)\n",
    "ratings_test = pd.read_csv('./homework4/data/ratings_test.csv', header=None)\n",
    "ratings_fake = pd.read_csv('./homework4/data/ratings_fake.csv', header=None)"
   ]
  },
  {
   "cell_type": "code",
   "execution_count": 160,
   "metadata": {
    "collapsed": true
   },
   "outputs": [],
   "source": [
    "ratings_train.columns = ['user', 'movie', 'rating']\n",
    "ratings_test.columns = ['user', 'movie', 'rating']\n",
    "ratings_fake.columns = ['user', 'movie', 'rating']"
   ]
  },
  {
   "cell_type": "code",
   "execution_count": 161,
   "metadata": {
    "collapsed": false
   },
   "outputs": [],
   "source": [
    "A = ratings_fake.pivot(index='user', columns='movie').as_matrix()"
   ]
  },
  {
   "cell_type": "code",
   "execution_count": 309,
   "metadata": {
    "collapsed": true
   },
   "outputs": [],
   "source": [
    "mu = A.mean()\n",
    "m = A.shape[0]\n",
    "n = A.shape[1]\n",
    "k = 5\n",
    "T = 20\n",
    "B = np.zeros(m)\n",
    "C = np.zeros(n)\n",
    "U = np.random.multivariate_normal(np.zeros(k), (1/k) * np.identity(k), (m))\n",
    "V = np.random.multivariate_normal(np.zeros(k), (1/k) * np.identity(k), (n))"
   ]
  },
  {
   "cell_type": "code",
   "execution_count": 310,
   "metadata": {
    "collapsed": true
   },
   "outputs": [],
   "source": [
    "U = optimize_U(U, V, B, C, mu, A)"
   ]
  },
  {
   "cell_type": "code",
   "execution_count": 268,
   "metadata": {
    "collapsed": true
   },
   "outputs": [],
   "source": [
    "# V = optimize_V(U, V, B, C, mu, A)"
   ]
  },
  {
   "cell_type": "code",
   "execution_count": 315,
   "metadata": {
    "collapsed": true
   },
   "outputs": [],
   "source": [
    "def optimize_U(U, V, B, C, mu, A):\n",
    "    rights = []\n",
    "    for i in range(U.shape[0]):\n",
    "        js = []\n",
    "        for j in range(V.shape[0]):\n",
    "            r = -(B[i] + C[j] + mu - A[i, j]) * V[j]\n",
    "            js.append(r)\n",
    "        rights.append(np.array(js).sum(axis=0))\n",
    "    rights = np.array(rights)\n",
    "\n",
    "    vec_matrix = []\n",
    "    for i in range(U.shape[0]):\n",
    "        lefts = 0\n",
    "        for j in range(V.shape[0]):\n",
    "            arr = np.outer(V[j], V[j].T)\n",
    "            lefts += arr\n",
    "        lefts = np.linalg.inv(np.array(lefts))\n",
    "        vec_matrix.append(lefts)\n",
    "    vec_matrix = np.array(vec_matrix)\n",
    "\n",
    "    vecs = []\n",
    "    for i in range(200):\n",
    "        new_vec_i = np.dot(vec_matrix[i], rights[i])\n",
    "        vecs.append(new_vec_i)\n",
    "\n",
    "    return np.array(vecs)"
   ]
  },
  {
   "cell_type": "code",
   "execution_count": 316,
   "metadata": {
    "collapsed": true
   },
   "outputs": [],
   "source": [
    "def optimize_V(U, V, B, C, mu, A):\n",
    "    rights = []\n",
    "    for i in range(U.shape[0]):\n",
    "        js = []\n",
    "        for j in range(V.shape[0]):\n",
    "            r = -(B[i] + C[j] + mu - A[i, j]) * U[i]\n",
    "            js.append(r)\n",
    "        rights.append(np.array(js).sum(axis=0))\n",
    "    rights = np.array(rights)\n",
    "\n",
    "    vec_matrix = []\n",
    "    for i in range(U.shape[0]):\n",
    "        lefts = 0\n",
    "        for j in range(V.shape[0]):\n",
    "            arr = np.outer(U[j], U[j].T)\n",
    "            lefts += arr\n",
    "        lefts = np.linalg.inv(np.array(lefts))\n",
    "        vec_matrix.append(lefts)\n",
    "    vec_matrix = np.array(vec_matrix)\n",
    "\n",
    "    vecs = []\n",
    "    for i in range(U.shape[0]):\n",
    "        new_vec_i = np.dot(vec_matrix[i], rights[i])\n",
    "        vecs.append(new_vec_i)\n",
    "\n",
    "    return np.array(vecs)"
   ]
  },
  {
   "cell_type": "code",
   "execution_count": 317,
   "metadata": {
    "collapsed": true
   },
   "outputs": [],
   "source": [
    "def optimize_B(U, V, B, C, mu, A):\n",
    "    sums = []\n",
    "    for i in range(U.shape[0]):\n",
    "        js = []\n",
    "        for j in range(V.shape[0]):\n",
    "            s = -(np.dot(U[i], V[j]) + B[i] + C[j] + mu - A[i, j]) / V.shape[0]\n",
    "            js.append(s)\n",
    "        sums.append(np.array(js).sum(axis=0))\n",
    "    return np.array(sums)"
   ]
  },
  {
   "cell_type": "code",
   "execution_count": 318,
   "metadata": {
    "collapsed": true
   },
   "outputs": [],
   "source": [
    "def optimize_C(U, V, B, C, mu, A):\n",
    "    sums = []\n",
    "    for i in range(U.shape[0]):\n",
    "        js = []\n",
    "        for j in range(V.shape[0]):\n",
    "            s = -(np.dot(U[i], V[j]) + B[i] + C[j] + mu - A[i, j]) / U.shape[0]\n",
    "            js.append(s)\n",
    "        sums.append(np.array(js).sum(axis=0))\n",
    "    return np.array(sums)"
   ]
  },
  {
   "cell_type": "code",
   "execution_count": 319,
   "metadata": {
    "collapsed": true
   },
   "outputs": [],
   "source": [
    "def update(U, V, B, C, mu, A):\n",
    "    sums = []\n",
    "    for i in range(U.shape[0]):\n",
    "        for j in range(V.shape[0]):\n",
    "            s = -(np.dot(U[i], V[j]) + B[i] + C[j] + mu - A[i,j])\n",
    "            sums.append(s)\n",
    "    sums = np.array(sums)\n",
    "    return sums.sum()"
   ]
  },
  {
   "cell_type": "code",
   "execution_count": 320,
   "metadata": {
    "collapsed": false
   },
   "outputs": [],
   "source": [
    "def optimize_params(U, V, B, C):\n",
    "    B = optimize_B(U, V, B, C, mu, A)\n",
    "    U = optimize_U(U, V, B, C, mu, A)\n",
    "    C = optimize_C(U, V, B, C, mu, A) \n",
    "    V = optimize_V(U, V, B, C, mu, A)\n",
    "    return (B, U, C, V)"
   ]
  },
  {
   "cell_type": "code",
   "execution_count": 321,
   "metadata": {
    "collapsed": false
   },
   "outputs": [],
   "source": [
    "# B = optimize_B(U, V, B, C, mu, A)\n",
    "# U = optimize_U(U, V, B, C, mu, A)\n",
    "# C = optimize_C(U, V, B, C, mu, A) \n",
    "# V = optimize_V(U, V, B, C, mu, A)"
   ]
  },
  {
   "cell_type": "code",
   "execution_count": 322,
   "metadata": {
    "collapsed": false
   },
   "outputs": [],
   "source": [
    "mu = A.mean()\n",
    "m = A.shape[0]\n",
    "n = A.shape[1]\n",
    "k = 5\n",
    "T = 20\n",
    "B = np.zeros(m)\n",
    "C = np.zeros(n)\n",
    "U = np.random.multivariate_normal(np.zeros(k), (1/k) * np.identity(k), (m))\n",
    "V = np.random.multivariate_normal(np.zeros(k), (1/k) * np.identity(k), (n))"
   ]
  },
  {
   "cell_type": "code",
   "execution_count": 323,
   "metadata": {
    "collapsed": false
   },
   "outputs": [
    {
     "name": "stdout",
     "output_type": "stream",
     "text": [
      "6.46402343898\n",
      "0.0156186124211\n",
      "0.702202398466\n",
      "-0.032858499304\n",
      "0.128136942082\n",
      "-2.15038778109\n",
      "49.8472105143\n",
      "68.7773933782\n",
      "263.371463894\n"
     ]
    },
    {
     "ename": "KeyboardInterrupt",
     "evalue": "",
     "output_type": "error",
     "traceback": [
      "\u001b[0;31m---------------------------------------------------------------------------\u001b[0m",
      "\u001b[0;31mKeyboardInterrupt\u001b[0m                         Traceback (most recent call last)",
      "\u001b[0;32m<ipython-input-323-d966895bcc09>\u001b[0m in \u001b[0;36m<module>\u001b[0;34m()\u001b[0m\n\u001b[1;32m      1\u001b[0m \u001b[0;32mfor\u001b[0m \u001b[0mt\u001b[0m \u001b[0;32min\u001b[0m \u001b[0mrange\u001b[0m\u001b[0;34m(\u001b[0m\u001b[0mT\u001b[0m\u001b[0;34m)\u001b[0m\u001b[0;34m:\u001b[0m\u001b[0;34m\u001b[0m\u001b[0m\n\u001b[0;32m----> 2\u001b[0;31m     \u001b[0mB\u001b[0m\u001b[0;34m,\u001b[0m \u001b[0mU\u001b[0m\u001b[0;34m,\u001b[0m \u001b[0mC\u001b[0m\u001b[0;34m,\u001b[0m \u001b[0mV\u001b[0m \u001b[0;34m=\u001b[0m \u001b[0moptimize_params\u001b[0m\u001b[0;34m(\u001b[0m\u001b[0mU\u001b[0m\u001b[0;34m,\u001b[0m \u001b[0mV\u001b[0m\u001b[0;34m,\u001b[0m \u001b[0mB\u001b[0m\u001b[0;34m,\u001b[0m \u001b[0mC\u001b[0m\u001b[0;34m)\u001b[0m\u001b[0;34m\u001b[0m\u001b[0m\n\u001b[0m\u001b[1;32m      3\u001b[0m     \u001b[0;32mprint\u001b[0m \u001b[0mupdate\u001b[0m\u001b[0;34m(\u001b[0m\u001b[0mU\u001b[0m\u001b[0;34m,\u001b[0m \u001b[0mV\u001b[0m\u001b[0;34m,\u001b[0m \u001b[0mB\u001b[0m\u001b[0;34m,\u001b[0m \u001b[0mC\u001b[0m\u001b[0;34m,\u001b[0m \u001b[0mmu\u001b[0m\u001b[0;34m,\u001b[0m \u001b[0mA\u001b[0m\u001b[0;34m)\u001b[0m\u001b[0;34m\u001b[0m\u001b[0m\n",
      "\u001b[0;32m<ipython-input-320-5a25b763e6e1>\u001b[0m in \u001b[0;36moptimize_params\u001b[0;34m(U, V, B, C)\u001b[0m\n\u001b[1;32m      1\u001b[0m \u001b[0;32mdef\u001b[0m \u001b[0moptimize_params\u001b[0m\u001b[0;34m(\u001b[0m\u001b[0mU\u001b[0m\u001b[0;34m,\u001b[0m \u001b[0mV\u001b[0m\u001b[0;34m,\u001b[0m \u001b[0mB\u001b[0m\u001b[0;34m,\u001b[0m \u001b[0mC\u001b[0m\u001b[0;34m)\u001b[0m\u001b[0;34m:\u001b[0m\u001b[0;34m\u001b[0m\u001b[0m\n\u001b[0;32m----> 2\u001b[0;31m     \u001b[0mB\u001b[0m \u001b[0;34m=\u001b[0m \u001b[0moptimize_B\u001b[0m\u001b[0;34m(\u001b[0m\u001b[0mU\u001b[0m\u001b[0;34m,\u001b[0m \u001b[0mV\u001b[0m\u001b[0;34m,\u001b[0m \u001b[0mB\u001b[0m\u001b[0;34m,\u001b[0m \u001b[0mC\u001b[0m\u001b[0;34m,\u001b[0m \u001b[0mmu\u001b[0m\u001b[0;34m,\u001b[0m \u001b[0mA\u001b[0m\u001b[0;34m)\u001b[0m\u001b[0;34m\u001b[0m\u001b[0m\n\u001b[0m\u001b[1;32m      3\u001b[0m     \u001b[0mU\u001b[0m \u001b[0;34m=\u001b[0m \u001b[0moptimize_U\u001b[0m\u001b[0;34m(\u001b[0m\u001b[0mU\u001b[0m\u001b[0;34m,\u001b[0m \u001b[0mV\u001b[0m\u001b[0;34m,\u001b[0m \u001b[0mB\u001b[0m\u001b[0;34m,\u001b[0m \u001b[0mC\u001b[0m\u001b[0;34m,\u001b[0m \u001b[0mmu\u001b[0m\u001b[0;34m,\u001b[0m \u001b[0mA\u001b[0m\u001b[0;34m)\u001b[0m\u001b[0;34m\u001b[0m\u001b[0m\n\u001b[1;32m      4\u001b[0m     \u001b[0mC\u001b[0m \u001b[0;34m=\u001b[0m \u001b[0moptimize_C\u001b[0m\u001b[0;34m(\u001b[0m\u001b[0mU\u001b[0m\u001b[0;34m,\u001b[0m \u001b[0mV\u001b[0m\u001b[0;34m,\u001b[0m \u001b[0mB\u001b[0m\u001b[0;34m,\u001b[0m \u001b[0mC\u001b[0m\u001b[0;34m,\u001b[0m \u001b[0mmu\u001b[0m\u001b[0;34m,\u001b[0m \u001b[0mA\u001b[0m\u001b[0;34m)\u001b[0m\u001b[0;34m\u001b[0m\u001b[0m\n\u001b[1;32m      5\u001b[0m     \u001b[0mV\u001b[0m \u001b[0;34m=\u001b[0m \u001b[0moptimize_V\u001b[0m\u001b[0;34m(\u001b[0m\u001b[0mU\u001b[0m\u001b[0;34m,\u001b[0m \u001b[0mV\u001b[0m\u001b[0;34m,\u001b[0m \u001b[0mB\u001b[0m\u001b[0;34m,\u001b[0m \u001b[0mC\u001b[0m\u001b[0;34m,\u001b[0m \u001b[0mmu\u001b[0m\u001b[0;34m,\u001b[0m \u001b[0mA\u001b[0m\u001b[0;34m)\u001b[0m\u001b[0;34m\u001b[0m\u001b[0m\n",
      "\u001b[0;32m<ipython-input-317-f90d59a0abcc>\u001b[0m in \u001b[0;36moptimize_B\u001b[0;34m(U, V, B, C, mu, A)\u001b[0m\n\u001b[1;32m      4\u001b[0m         \u001b[0mjs\u001b[0m \u001b[0;34m=\u001b[0m \u001b[0;34m[\u001b[0m\u001b[0;34m]\u001b[0m\u001b[0;34m\u001b[0m\u001b[0m\n\u001b[1;32m      5\u001b[0m         \u001b[0;32mfor\u001b[0m \u001b[0mj\u001b[0m \u001b[0;32min\u001b[0m \u001b[0mrange\u001b[0m\u001b[0;34m(\u001b[0m\u001b[0mV\u001b[0m\u001b[0;34m.\u001b[0m\u001b[0mshape\u001b[0m\u001b[0;34m[\u001b[0m\u001b[0;36m0\u001b[0m\u001b[0;34m]\u001b[0m\u001b[0;34m)\u001b[0m\u001b[0;34m:\u001b[0m\u001b[0;34m\u001b[0m\u001b[0m\n\u001b[0;32m----> 6\u001b[0;31m             \u001b[0ms\u001b[0m \u001b[0;34m=\u001b[0m \u001b[0;34m-\u001b[0m\u001b[0;34m(\u001b[0m\u001b[0mnp\u001b[0m\u001b[0;34m.\u001b[0m\u001b[0mdot\u001b[0m\u001b[0;34m(\u001b[0m\u001b[0mU\u001b[0m\u001b[0;34m[\u001b[0m\u001b[0mi\u001b[0m\u001b[0;34m]\u001b[0m\u001b[0;34m,\u001b[0m \u001b[0mV\u001b[0m\u001b[0;34m[\u001b[0m\u001b[0mj\u001b[0m\u001b[0;34m]\u001b[0m\u001b[0;34m)\u001b[0m \u001b[0;34m+\u001b[0m \u001b[0mB\u001b[0m\u001b[0;34m[\u001b[0m\u001b[0mi\u001b[0m\u001b[0;34m]\u001b[0m \u001b[0;34m+\u001b[0m \u001b[0mC\u001b[0m\u001b[0;34m[\u001b[0m\u001b[0mj\u001b[0m\u001b[0;34m]\u001b[0m \u001b[0;34m+\u001b[0m \u001b[0mmu\u001b[0m \u001b[0;34m-\u001b[0m \u001b[0mA\u001b[0m\u001b[0;34m[\u001b[0m\u001b[0mi\u001b[0m\u001b[0;34m,\u001b[0m \u001b[0mj\u001b[0m\u001b[0;34m]\u001b[0m\u001b[0;34m)\u001b[0m \u001b[0;34m/\u001b[0m \u001b[0mV\u001b[0m\u001b[0;34m.\u001b[0m\u001b[0mshape\u001b[0m\u001b[0;34m[\u001b[0m\u001b[0;36m0\u001b[0m\u001b[0;34m]\u001b[0m\u001b[0;34m\u001b[0m\u001b[0m\n\u001b[0m\u001b[1;32m      7\u001b[0m             \u001b[0mjs\u001b[0m\u001b[0;34m.\u001b[0m\u001b[0mappend\u001b[0m\u001b[0;34m(\u001b[0m\u001b[0ms\u001b[0m\u001b[0;34m)\u001b[0m\u001b[0;34m\u001b[0m\u001b[0m\n\u001b[1;32m      8\u001b[0m         \u001b[0msums\u001b[0m\u001b[0;34m.\u001b[0m\u001b[0mappend\u001b[0m\u001b[0;34m(\u001b[0m\u001b[0mnp\u001b[0m\u001b[0;34m.\u001b[0m\u001b[0marray\u001b[0m\u001b[0;34m(\u001b[0m\u001b[0mjs\u001b[0m\u001b[0;34m)\u001b[0m\u001b[0;34m.\u001b[0m\u001b[0msum\u001b[0m\u001b[0;34m(\u001b[0m\u001b[0maxis\u001b[0m\u001b[0;34m=\u001b[0m\u001b[0;36m0\u001b[0m\u001b[0;34m)\u001b[0m\u001b[0;34m)\u001b[0m\u001b[0;34m\u001b[0m\u001b[0m\n",
      "\u001b[0;31mKeyboardInterrupt\u001b[0m: "
     ]
    }
   ],
   "source": [
    "for t in range(T):\n",
    "    B, U, C, V = optimize_params(U, V, B, C)\n",
    "    print update(U, V, B, C, mu, A)"
   ]
  },
  {
   "cell_type": "code",
   "execution_count": 448,
   "metadata": {
    "collapsed": false
   },
   "outputs": [],
   "source": [
    "lefts = []\n",
    "for j in range(V.shape[0]):\n",
    "    arr = np.dot(V[j], V[j].T)\n",
    "    lefts.append(arr)\n",
    "lefts = np.array(lefts)\n",
    "lefts = np.linalg.inv([[lefts.sum()]])"
   ]
  },
  {
   "cell_type": "code",
   "execution_count": 170,
   "metadata": {
    "collapsed": false
   },
   "outputs": [],
   "source": [
    "right = []\n",
    "for i in range(U.shape[0]):\n",
    "    js = []\n",
    "    for j in range(V.shape[0]):\n",
    "        r = (B[i] + C[j] + mu - A[i, j]) * V[j]\n",
    "        js.append(r)\n",
    "    right.append(np.array(js).sum(axis=0))\n",
    "right = np.array(right)"
   ]
  },
  {
   "cell_type": "code",
   "execution_count": null,
   "metadata": {
    "collapsed": false
   },
   "outputs": [],
   "source": []
  },
  {
   "cell_type": "code",
   "execution_count": 207,
   "metadata": {
    "collapsed": false
   },
   "outputs": [],
   "source": [
    "# def non_u_component(U, B, C, mu, A):\n",
    "#     new_vec = []\n",
    "#     for i in range(U.shape[0]):\n",
    "#         s = (B[i] + C + mu - A[i, :])\n",
    "#         new_vec.append(s)\n",
    "#         nuc = np.array(new_vec)\n",
    "#     return nuc * V"
   ]
  },
  {
   "cell_type": "code",
   "execution_count": 166,
   "metadata": {
    "collapsed": true
   },
   "outputs": [],
   "source": [
    "# def non_v_component(U, B, C, mu, A):\n",
    "#     new_vec = []\n",
    "#     for i in range(V.shape[0]):\n",
    "#         s = (B[i] + C + mu - A[i, :]) * V\n",
    "#         new_vec.append(s)\n",
    "#         nc = np.array(new_vec)\n",
    "#     return nc"
   ]
  },
  {
   "cell_type": "code",
   "execution_count": null,
   "metadata": {
    "collapsed": true
   },
   "outputs": [],
   "source": []
  }
 ],
 "metadata": {
  "kernelspec": {
   "display_name": "Python 2",
   "language": "python",
   "name": "python2"
  },
  "language_info": {
   "codemirror_mode": {
    "name": "ipython",
    "version": 2
   },
   "file_extension": ".py",
   "mimetype": "text/x-python",
   "name": "python",
   "nbconvert_exporter": "python",
   "pygments_lexer": "ipython2",
   "version": "2.7.10"
  }
 },
 "nbformat": 4,
 "nbformat_minor": 0
}
