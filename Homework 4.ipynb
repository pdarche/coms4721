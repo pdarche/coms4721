{
 "cells": [
  {
   "cell_type": "code",
   "execution_count": 3,
   "metadata": {
    "collapsed": true
   },
   "outputs": [],
   "source": [
    "from __future__ import division\n",
    "import pandas as pd\n",
    "import numpy as np\n",
    "\n",
    "import seaborn as sns\n",
    "from matplotlib import pyplot as plt"
   ]
  },
  {
   "cell_type": "code",
   "execution_count": 4,
   "metadata": {
    "collapsed": false
   },
   "outputs": [
    {
     "name": "stdout",
     "output_type": "stream",
     "text": [
      "Populating the interactive namespace from numpy and matplotlib\n"
     ]
    }
   ],
   "source": [
    "%pylab inline"
   ]
  },
  {
   "cell_type": "code",
   "execution_count": 5,
   "metadata": {
    "collapsed": false
   },
   "outputs": [],
   "source": [
    "ratings_train = pd.read_csv('./homework4/data/ratings_train.csv', header=None)\n",
    "ratings_test = pd.read_csv('./homework4/data/ratings_test.csv', header=None)\n",
    "ratings_fake = pd.read_csv('./homework4/data/ratings_fake.csv', header=None)"
   ]
  },
  {
   "cell_type": "code",
   "execution_count": 6,
   "metadata": {
    "collapsed": true
   },
   "outputs": [],
   "source": [
    "ratings_train.columns = ['user', 'movie', 'rating']\n",
    "ratings_test.columns = ['user', 'movie', 'rating']\n",
    "ratings_fake.columns = ['user', 'movie', 'rating']"
   ]
  },
  {
   "cell_type": "code",
   "execution_count": 7,
   "metadata": {
    "collapsed": false
   },
   "outputs": [],
   "source": [
    "# A = ratings_fake.pivot(index='user', columns='movie').as_matrix()\n",
    "A = ratings_train.pivot(index='user', columns='movie').fillna(0).as_matrix()\n",
    "# A = ratings_test.pivot(index='user', columns='movie') #.as_matrix()"
   ]
  },
  {
   "cell_type": "code",
   "execution_count": 130,
   "metadata": {
    "collapsed": false
   },
   "outputs": [],
   "source": [
    "def optimize_U(U, V, B, C, mu, A):\n",
    "    Uis = []\n",
    "    for i in range(m):\n",
    "        right = 0, \n",
    "        left = 0\n",
    "        if not pd.Series(A[i]).isnull().all():\n",
    "            for j in range(n):\n",
    "                if A[i, j]:\n",
    "                    right += (B[i] + C[j] + mu - A[i,j]) * V[j]\n",
    "                    left += np.outer(V[j], V[j].T)\n",
    "            Ui = -np.dot(np.linalg.inv(left), right)\n",
    "        else:\n",
    "            Ui = U[i]\n",
    "        Uis.append(Ui)\n",
    "    return np.array(Uis)"
   ]
  },
  {
   "cell_type": "code",
   "execution_count": 94,
   "metadata": {
    "collapsed": false
   },
   "outputs": [
    {
     "data": {
      "text/plain": [
       "array([[ 55.62035414]])"
      ]
     },
     "execution_count": 94,
     "metadata": {},
     "output_type": "execute_result"
    }
   ],
   "source": [
    "np.linalg.inv([[np.outer(U[0], U[0].T).sum()]])"
   ]
  },
  {
   "cell_type": "code",
   "execution_count": 111,
   "metadata": {
    "collapsed": true
   },
   "outputs": [],
   "source": [
    "def optimize_U(U, V, B, C, mu, A):\n",
    "    for i in range(m):\n",
    "        np.outer(U, U.T).sum(axis=0) * (B[i] + C + mu - A[i, :]) * U[i]"
   ]
  },
  {
   "cell_type": "code",
   "execution_count": 141,
   "metadata": {
    "collapsed": false
   },
   "outputs": [],
   "source": [
    "def optimize_V(U, V, B, C, mu, A):\n",
    "    Vjs = []\n",
    "    for j in range(n):\n",
    "        right = 0, \n",
    "        left = 0\n",
    "        if not pd.Series(A[:, j]).isnull().all():  \n",
    "            for i in range(m):\n",
    "                if A[i, j]:\n",
    "                    pass_ = True\n",
    "                    right += (B[i] + C[j] + mu - A[i, j]) * U[i]\n",
    "                    left += np.outer(U[i], U[i].T)\n",
    "                else:\n",
    "                    Vj = V[j]\n",
    "                    pass_ = False\n",
    "            if pass_:\n",
    "                Vj = -np.dot(np.linalg.inv(left), right)\n",
    "        else:\n",
    "            Vj = V[j]\n",
    "        Vjs.append(Vj)\n",
    "    return np.array(Vjs)"
   ]
  },
  {
   "cell_type": "code",
   "execution_count": 142,
   "metadata": {
    "collapsed": true
   },
   "outputs": [],
   "source": [
    "def optimize_B(U, V, B, C, mu, A):\n",
    "    Bis = []\n",
    "    for i in range(m):\n",
    "        b = 0\n",
    "        if not pd.Series(A[i]).isnull().all():         \n",
    "            for j in range(n):\n",
    "                if A[i,j]:\n",
    "                    b += -(np.dot(U[i], V[j]) + C[j] + mu - A[i,j]) / n\n",
    "        else:\n",
    "            b = B[i]\n",
    "        Bis.append(b)\n",
    "    return np.array(Bis)"
   ]
  },
  {
   "cell_type": "code",
   "execution_count": 143,
   "metadata": {
    "collapsed": true
   },
   "outputs": [],
   "source": [
    "def optimize_C(U, V, B, C, mu, A):\n",
    "    Cjs = []\n",
    "    for j in range(n):\n",
    "        c = 0\n",
    "        if not pd.Series(A[:, j]).isnull().all():\n",
    "            for i in range(m):\n",
    "                if A[i,j]:\n",
    "                    c += -(np.dot(U[i], V[j]) + B[i] + mu - A[i,j]) / m\n",
    "        else:\n",
    "            c = C[j]\n",
    "        Cjs.append(c)\n",
    "    return np.array(Cjs)"
   ]
  },
  {
   "cell_type": "code",
   "execution_count": 144,
   "metadata": {
    "collapsed": false
   },
   "outputs": [],
   "source": [
    "def update_params(B, U, C, V):\n",
    "    B = optimize_B(U, V, B, C, mu, A)\n",
    "    U = optimize_U(U, V, B, C, mu, A)\n",
    "    C = optimize_C(U, V, B, C, mu, A)\n",
    "    V = optimize_V(U, V, B, C, mu, A)\n",
    "    return (B, U, C, V)"
   ]
  },
  {
   "cell_type": "code",
   "execution_count": 145,
   "metadata": {
    "collapsed": true
   },
   "outputs": [],
   "source": [
    "def log_likelihood(B, U, C, V, mu, A):\n",
    "    lls = 0\n",
    "    for i in range(U.shape[0]):\n",
    "        for j in range(V.shape[0]):\n",
    "            lls += (np.dot(U[i], V[j]) + B[i] + C[j] + mu - A[i,j])**2\n",
    "    return -(lls.sum()) / 2"
   ]
  },
  {
   "cell_type": "code",
   "execution_count": 146,
   "metadata": {
    "collapsed": true
   },
   "outputs": [],
   "source": [
    "def regularized_log_likelihood(B, U, C, V, mu, A, lamb):\n",
    "    lls = 0\n",
    "    for i in range(U.shape[0]):\n",
    "        for j in range(V.shape[0]):\n",
    "            lls += (np.dot(U[i], V[j]) + B[i] + C[j] + mu - A[i,j])**2\n",
    "    ll = -(lls.sum()) / 2\n",
    "    Us = np.sum(np.linalg.norm(U, ord=2)**2)\n",
    "    Vs = np.sum(np.linalg.norm(V, ord=2)**2)\n",
    "    return ll - (lamb * (Us + Vs))"
   ]
  },
  {
   "cell_type": "code",
   "execution_count": 147,
   "metadata": {
    "collapsed": true
   },
   "outputs": [],
   "source": [
    "def rmse(B, U, C, V, mu, A):\n",
    "    card = 1/A.size"
   ]
  },
  {
   "cell_type": "code",
   "execution_count": 148,
   "metadata": {
    "collapsed": false
   },
   "outputs": [],
   "source": [
    "# def log_likelihood(B, U, C, V, mu, A):\n",
    "#     lls = []\n",
    "#     for i in range(m):\n",
    "#         lls.append((np.dot(V, U[i]) + B[i] + C + mu + A[i,:])**2)\n",
    "#     return -(np.array(lls).sum()) / 2"
   ]
  },
  {
   "cell_type": "code",
   "execution_count": 149,
   "metadata": {
    "collapsed": false
   },
   "outputs": [],
   "source": [
    "mu = A.mean()\n",
    "m = A.shape[0]\n",
    "n = A.shape[1]\n",
    "k = 5\n",
    "T = 20\n",
    "B = np.zeros(m)\n",
    "C = np.zeros(n)\n",
    "U = np.random.multivariate_normal(np.zeros(k), (1/k) * np.identity(k), (m))\n",
    "V = np.random.multivariate_normal(np.zeros(k), (1/k) * np.identity(k), (n))\n",
    "lamb = 10"
   ]
  },
  {
   "cell_type": "code",
   "execution_count": 150,
   "metadata": {
    "collapsed": false
   },
   "outputs": [
    {
     "name": "stdout",
     "output_type": "stream",
     "text": [
      "-675343.650212\n",
      "-4759100.92966\n",
      "-83773838.6318\n",
      "-3808682.50973\n",
      "-8580078.48051\n",
      "-3269748.76797\n",
      "-3393308.32931\n",
      "-3573742.46441\n",
      "-4617823.6377\n",
      "-3190911.01257\n",
      "-6322537.14359\n",
      "-3651251.77314\n",
      "-51750545.8352\n",
      "-9603897.38377\n",
      "-4032387.84467\n",
      "-4801915.02324\n",
      "-3259686.34261\n",
      "-11901155.3714\n",
      "-10534914.43\n",
      "-341798072.987\n"
     ]
    },
    {
     "data": {
      "text/plain": [
       "<matplotlib.axes._subplots.AxesSubplot at 0x107893590>"
      ]
     },
     "execution_count": 150,
     "metadata": {},
     "output_type": "execute_result"
    },
    {
     "data": {
      "image/png": "[encoded data removed]",
      "text/plain": [
       "<matplotlib.figure.Figure at 0x106c9ed90>"
      ]
     },
     "metadata": {},
     "output_type": "display_data"
    }
   ],
   "source": [
    "v = []\n",
    "for t in range(20):\n",
    "    v.append(log_likelihood(B, U, C, V, mu, A))\n",
    "    print v[t]\n",
    "    B, U, C, V = update_params(B, U, C, V)\n",
    "pd.Series(v).plot()"
   ]
  },
  {
   "cell_type": "code",
   "execution_count": null,
   "metadata": {
    "collapsed": true
   },
   "outputs": [],
   "source": []
  },
  {
   "cell_type": "code",
   "execution_count": null,
   "metadata": {
    "collapsed": false
   },
   "outputs": [],
   "source": [
    "def clip(z):\n",
    "    if z < 1:\n",
    "        return 1\n",
    "    if z >= 1 and z <= 5:\n",
    "        return z\n",
    "    if z > 5:\n",
    "        return 5"
   ]
  },
  {
   "cell_type": "code",
   "execution_count": null,
   "metadata": {
    "collapsed": true
   },
   "outputs": [],
   "source": []
  }
 ],
 "metadata": {
  "kernelspec": {
   "display_name": "Python 2",
   "language": "python",
   "name": "python2"
  },
  "language_info": {
   "codemirror_mode": {
    "name": "ipython",
    "version": 2
   },
   "file_extension": ".py",
   "mimetype": "text/x-python",
   "name": "python",
   "nbconvert_exporter": "python",
   "pygments_lexer": "ipython2",
   "version": "2.7.10"
  }
 },
 "nbformat": 4,
 "nbformat_minor": 0
}
