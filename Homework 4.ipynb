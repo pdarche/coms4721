{
 "cells": [
  {
   "cell_type": "code",
   "execution_count": 3,
   "metadata": {
    "collapsed": true
   },
   "outputs": [],
   "source": [
    "from __future__ import division\n",
    "import pandas as pd\n",
    "import numpy as np\n",
    "\n",
    "import seaborn as sns\n",
    "from matplotlib import pyplot as plt"
   ]
  },
  {
   "cell_type": "code",
   "execution_count": 4,
   "metadata": {
    "collapsed": false
   },
   "outputs": [],
   "source": [
    "ratings_train = pd.read_csv('./homework4/data/ratings_train.csv', header=None)\n",
    "ratings_test = pd.read_csv('./homework4/data/ratings_test.csv', header=None)\n",
    "ratings_fake = pd.read_csv('./homework4/data/ratings_fake.csv', header=None)"
   ]
  },
  {
   "cell_type": "code",
   "execution_count": 5,
   "metadata": {
    "collapsed": true
   },
   "outputs": [],
   "source": [
    "ratings_train.columns = ['user', 'movie', 'rating']\n",
    "ratings_test.columns = ['user', 'movie', 'rating']\n",
    "ratings_fake.columns = ['user', 'movie', 'rating']"
   ]
  },
  {
   "cell_type": "code",
   "execution_count": 6,
   "metadata": {
    "collapsed": false
   },
   "outputs": [],
   "source": [
    "A = ratings_fake.pivot(index='user', columns='movie').as_matrix()"
   ]
  },
  {
   "cell_type": "code",
   "execution_count": 205,
   "metadata": {
    "collapsed": false
   },
   "outputs": [],
   "source": [
    "mu = A.mean()\n",
    "m = A.shape[0]\n",
    "n = A.shape[1]\n",
    "k = 5\n",
    "T = 20\n",
    "B = np.zeros(m)\n",
    "C = np.zeros(n)\n",
    "U = np.random.multivariate_normal(np.zeros(k), (1/k) * np.identity(k), (m))\n",
    "V = np.random.multivariate_normal(np.zeros(k), (1/k) * np.identity(k), (n))"
   ]
  },
  {
   "cell_type": "code",
   "execution_count": 99,
   "metadata": {
    "collapsed": true
   },
   "outputs": [],
   "source": [
    "def compute_U(U, V, B, C, mu, A):\n",
    "    \"\"\" Finds the value of U that maximizes\n",
    "    the log-likehihoood. Inelegantly uses \n",
    "    the close form \n",
    "    \"\"\"\n",
    "    rights = []\n",
    "    for i in range(U.shape[0]):\n",
    "        js = []\n",
    "        for j in range(V.shape[0]):\n",
    "            r = (B[i] + C[j] + mu - A[i, j]) * V[j]\n",
    "            js.append(r)\n",
    "        rights.append(np.array(js).sum(axis=0))\n",
    "    rights = np.array(right)\n",
    "    \n",
    "    lefts = []\n",
    "    for j in range(V.shape[0]):\n",
    "        arr = np.dot(V[j], V[j].T)\n",
    "        lefts.append(arr)\n",
    "    lefts = np.array(left)\n",
    "    lefts = np.linalg.inv([[left.sum()]])\n",
    "    \n",
    "    return lefts * right"
   ]
  },
  {
   "cell_type": "code",
   "execution_count": 137,
   "metadata": {
    "collapsed": true
   },
   "outputs": [],
   "source": [
    "def compute_V(U, V, B, C, mu, A):\n",
    "    \"\"\" Finds the value of U that maximizes\n",
    "    the log-likehihoood. Inelegantly uses \n",
    "    the close form \n",
    "    \"\"\"\n",
    "    rights = []\n",
    "    for j in range(V.shape[0]):\n",
    "        js = []\n",
    "        for i in range(U.shape[0]):\n",
    "            r = (B[i] + C[j] + mu - A[i, j]) * U[j]\n",
    "            js.append(r)\n",
    "        rights.append(np.array(js).sum(axis=0))\n",
    "    rights = np.array(right)\n",
    "    \n",
    "    lefts = []\n",
    "    for i in range(U.shape[0]):\n",
    "        arr = np.dot(U[i], U[i].T)\n",
    "        lefts.append(arr)\n",
    "    lefts = np.array(left)\n",
    "    lefts = np.linalg.inv([[left.sum()]])\n",
    "    \n",
    "    return lefts * right"
   ]
  },
  {
   "cell_type": "code",
   "execution_count": 222,
   "metadata": {
    "collapsed": true
   },
   "outputs": [],
   "source": [
    "def update(U, V, B, C, mu, A):\n",
    "    B = (-(U * V).sum(axis=1) - C - mu + A.sum(axis=1)) / n\n",
    "    U = compute_U(U, V, B, C, mu, A)\n",
    "    C = (-(U * V).sum(axis=1) - B - mu - A.sum(axis=1) / m)\n",
    "    V = compute_V(U, V, B, C, mu, A)\n",
    "    return -(np.dot(U, V.T) + B + C + mu - A)"
   ]
  },
  {
   "cell_type": "code",
   "execution_count": null,
   "metadata": {
    "collapsed": true
   },
   "outputs": [],
   "source": []
  },
  {
   "cell_type": "code",
   "execution_count": 186,
   "metadata": {
    "collapsed": false
   },
   "outputs": [],
   "source": [
    "# ((V * U) + B + C + mu - A)"
   ]
  },
  {
   "cell_type": "code",
   "execution_count": 168,
   "metadata": {
    "collapsed": false
   },
   "outputs": [],
   "source": [
    "lefts = []\n",
    "for j in range(V.shape[0]):\n",
    "    arr = np.dot(V[j], V[j].T)\n",
    "    lefts.append(arr)\n",
    "lefts = np.array(lefts)\n",
    "lefts = np.linalg.inv([[lefts.sum()]])"
   ]
  },
  {
   "cell_type": "code",
   "execution_count": 170,
   "metadata": {
    "collapsed": false
   },
   "outputs": [],
   "source": [
    "right = []\n",
    "for i in range(U.shape[0]):\n",
    "    js = []\n",
    "    for j in range(V.shape[0]):\n",
    "        r = (B[i] + C[j] + mu - A[i, j]) * V[j]\n",
    "        js.append(r)\n",
    "    right.append(np.array(js).sum(axis=0))\n",
    "right = np.array(right)"
   ]
  },
  {
   "cell_type": "code",
   "execution_count": null,
   "metadata": {
    "collapsed": false
   },
   "outputs": [],
   "source": []
  },
  {
   "cell_type": "code",
   "execution_count": 207,
   "metadata": {
    "collapsed": false
   },
   "outputs": [],
   "source": [
    "# def non_u_component(U, B, C, mu, A):\n",
    "#     new_vec = []\n",
    "#     for i in range(U.shape[0]):\n",
    "#         s = (B[i] + C + mu - A[i, :])\n",
    "#         new_vec.append(s)\n",
    "#         nuc = np.array(new_vec)\n",
    "#     return nuc * V"
   ]
  },
  {
   "cell_type": "code",
   "execution_count": 166,
   "metadata": {
    "collapsed": true
   },
   "outputs": [],
   "source": [
    "# def non_v_component(U, B, C, mu, A):\n",
    "#     new_vec = []\n",
    "#     for i in range(V.shape[0]):\n",
    "#         s = (B[i] + C + mu - A[i, :]) * V\n",
    "#         new_vec.append(s)\n",
    "#         nc = np.array(new_vec)\n",
    "#     return nc"
   ]
  },
  {
   "cell_type": "code",
   "execution_count": null,
   "metadata": {
    "collapsed": true
   },
   "outputs": [],
   "source": []
  }
 ],
 "metadata": {
  "kernelspec": {
   "display_name": "Python 2",
   "language": "python",
   "name": "python2"
  },
  "language_info": {
   "codemirror_mode": {
    "name": "ipython",
    "version": 2
   },
   "file_extension": ".py",
   "mimetype": "text/x-python",
   "name": "python",
   "nbconvert_exporter": "python",
   "pygments_lexer": "ipython2",
   "version": "2.7.10"
  }
 },
 "nbformat": 4,
 "nbformat_minor": 0
}
