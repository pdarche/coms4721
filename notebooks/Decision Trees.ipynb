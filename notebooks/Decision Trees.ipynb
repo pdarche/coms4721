{
 "cells": [
  {
   "cell_type": "code",
   "execution_count": 105,
   "metadata": {
    "collapsed": true
   },
   "outputs": [],
   "source": [
    "from __future__ import division\n",
    "import itertools\n",
    "\n",
    "import numpy as np\n",
    "import pandas as pd\n",
    "import seaborn as sns\n",
    "import scipy\n",
    "import sklearn"
   ]
  },
  {
   "cell_type": "code",
   "execution_count": 72,
   "metadata": {
    "collapsed": true
   },
   "outputs": [],
   "source": [
    "train_income=['Low','Medium','Low','High','Low','High','Medium','Medium','High','Low','Medium',\n",
    "'Medium','High','Low','Medium']\n",
    "\n",
    "train_age = ['Old','Young','Old','Young','Old','Young','Young','Old','Old','Old','Young','Old',\n",
    "'Old','Old','Young']\n",
    "\n",
    "train_education = ['University','College','University','University','University','College','College',\n",
    "'High School','University','High School','College','High School','University','High School','College']\n",
    "\n",
    "train_marital = ['Married','Single','Married','Single','Married','Single','Married','Single','Single',\n",
    "'Married','Married','Single','Single','Married','Married']\n",
    "\n",
    "train_usage = ['Low','High','Low','High','Low','Low','High','Low','High','Low','High','Low',\n",
    "'High','Low','Low']"
   ]
  },
  {
   "cell_type": "code",
   "execution_count": 88,
   "metadata": {
    "collapsed": false
   },
   "outputs": [],
   "source": [
    "X = np.array([train_marital, train_age])"
   ]
  },
  {
   "cell_type": "code",
   "execution_count": 89,
   "metadata": {
    "collapsed": true
   },
   "outputs": [],
   "source": [
    "y = np.array(train_usage)"
   ]
  },
  {
   "cell_type": "code",
   "execution_count": 78,
   "metadata": {
    "collapsed": false
   },
   "outputs": [],
   "source": [
    "def create_feature_value_sets(feature, labels):\n",
    "    \"\"\" Takes a feature vector (vector of feature values\n",
    "    for a given feature) and returns a list of feature, label\n",
    "    tuples grouped by feature value\n",
    "    \"\"\"\n",
    "    feature_label_pairs = zip(feature, labels)\n",
    "    unique_values = np.unique(feature)\n",
    "    sets = [[tup for tup in feature_label_pairs if tup[0] == value]\n",
    "            for value in unique_values]\n",
    "    \n",
    "    return sets"
   ]
  },
  {
   "cell_type": "code",
   "execution_count": 29,
   "metadata": {
    "collapsed": false
   },
   "outputs": [],
   "source": [
    "def compute_max_prop(feature_values):\n",
    "    \"\"\" Computes the maximum proportion of labels \n",
    "    for a given feature\n",
    "    \"\"\"\n",
    "    groups = []\n",
    "    uniquekeys = []\n",
    "    data = sorted([f[1] for f in feature_values])\n",
    "    for k, g in itertools.groupby(data):\n",
    "        groups.append(len(list(g)))\n",
    "        uniquekeys.append(k)\n",
    "    max_ix = np.argmax(groups)\n",
    "    max_prop = groups[max_ix] / len(data)\n",
    "\n",
    "    return max_prop"
   ]
  },
  {
   "cell_type": "code",
   "execution_count": 80,
   "metadata": {
    "collapsed": true
   },
   "outputs": [],
   "source": [
    "def score(X, y):\n",
    "    fvs = create_feature_value_sets(X, y)\n",
    "    scores = [compute_max_prop(fv) for fv in fvs]\n",
    "    \n",
    "    return sum(scores) / len(fvs)"
   ]
  },
  {
   "cell_type": "code",
   "execution_count": 81,
   "metadata": {
    "collapsed": false
   },
   "outputs": [],
   "source": [
    "def find_next_best_question(remaining_features, labels):\n",
    "    scores = []\n",
    "    for feature_ix in range(remaining_features.shape[0]):\n",
    "        feature = remaining_features[feature_ix,:]\n",
    "        score_ = score(feature, labels)\n",
    "        scores.append(score_)\n",
    "    \n",
    "    # find the feature with the max score\n",
    "    best_feature_ix = np.argmax(scores)\n",
    "    # subsets of the data by feature_value\n",
    "    return best_feature_ix"
   ]
  },
  {
   "cell_type": "code",
   "execution_count": 113,
   "metadata": {
    "collapsed": false
   },
   "outputs": [],
   "source": [
    "def group_data_by_feature_value(remaining_features, labels, best_feature_ix):\n",
    "    # group the data points by the feature values of the best feature\n",
    "    feature_label_pairs = zip(remaining_features.T, labels)\n",
    "    unique_values = np.unique(remaining_features[best_feature_ix])\n",
    "    grouped_data = [[tup[0] for tup in feature_label_pairs \n",
    "      if tup[0][best_feature_ix] == value]\n",
    "        for value in unique_values]\n",
    "    \n",
    "    return grouped_data"
   ]
  },
  {
   "cell_type": "code",
   "execution_count": null,
   "metadata": {
    "collapsed": true
   },
   "outputs": [],
   "source": []
  },
  {
   "cell_type": "code",
   "execution_count": 112,
   "metadata": {
    "collapsed": false
   },
   "outputs": [],
   "source": [
    "def decision_tree_train(data, remaining_features):\n",
    "    guess_ix = np.argmax(remaining_features)\n",
    "    if labels_are_unambiguous:\n",
    "        return Leaf(guess)\n",
    "    elif not remaining_features:\n",
    "        return Leaf(guess)\n",
    "    else:\n",
    "        scores = []\n",
    "        for feature_ix in range(remaining_features.shape[0]):\n",
    "            feature = remaining_features[feature_ix,:]\n",
    "            score_ = score(feature, labels)\n",
    "            scores.append(score_)\n",
    "        \n",
    "        # find the feature with the max score\n",
    "        best_feature_ix = np.argmax(scores)\n",
    "        # subsets of the data by feature_value\n",
    "        left, right = group_data_by_feature_value(X, y, best_feature_ix)\n",
    "        Left = decision_tree_train(left, remaining_features)\n",
    "        Right = decision_tree_train(right, remaining_features)\n",
    "        \n",
    "        return Node(f, Left, Right)"
   ]
  },
  {
   "cell_type": "code",
   "execution_count": 85,
   "metadata": {
    "collapsed": false
   },
   "outputs": [],
   "source": [
    "# find_next_best_question(X, y)"
   ]
  },
  {
   "cell_type": "code",
   "execution_count": null,
   "metadata": {
    "collapsed": true
   },
   "outputs": [],
   "source": [
    "def make_tree(X, y):\n",
    "    return`"
   ]
  },
  {
   "cell_type": "code",
   "execution_count": null,
   "metadata": {
    "collapsed": true
   },
   "outputs": [],
   "source": [
    "def gain():\n",
    "    return"
   ]
  },
  {
   "cell_type": "code",
   "execution_count": null,
   "metadata": {
    "collapsed": true
   },
   "outputs": [],
   "source": [
    "def classification_error():\n",
    "    return"
   ]
  },
  {
   "cell_type": "code",
   "execution_count": 15,
   "metadata": {
    "collapsed": true
   },
   "outputs": [],
   "source": [
    "def gini_index():\n",
    "    return"
   ]
  },
  {
   "cell_type": "code",
   "execution_count": 230,
   "metadata": {
    "collapsed": true
   },
   "outputs": [],
   "source": [
    "def entropy(p):\n",
    "    if p != 0:\n",
    "        return -p * np.log2(p)\n",
    "    else:\n",
    "        return 0"
   ]
  }
 ],
 "metadata": {
  "kernelspec": {
   "display_name": "Python 2",
   "language": "python",
   "name": "python2"
  },
  "language_info": {
   "codemirror_mode": {
    "name": "ipython",
    "version": 2
   },
   "file_extension": ".py",
   "mimetype": "text/x-python",
   "name": "python",
   "nbconvert_exporter": "python",
   "pygments_lexer": "ipython2",
   "version": "2.7.10"
  }
 },
 "nbformat": 4,
 "nbformat_minor": 0
}
