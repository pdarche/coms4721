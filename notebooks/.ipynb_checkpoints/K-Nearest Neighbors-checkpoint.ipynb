{
 "cells": [
  {
   "cell_type": "code",
   "execution_count": 1,
   "metadata": {
    "collapsed": true
   },
   "outputs": [],
   "source": [
    "import numpy as np\n",
    "import seaborn as sns\n",
    "import matplotlib.pyplot as plt"
   ]
  },
  {
   "cell_type": "code",
   "execution_count": 2,
   "metadata": {
    "collapsed": false
   },
   "outputs": [
    {
     "name": "stdout",
     "output_type": "stream",
     "text": [
      "Populating the interactive namespace from numpy and matplotlib\n"
     ]
    }
   ],
   "source": [
    "%pylab inline"
   ]
  },
  {
   "cell_type": "code",
   "execution_count": 57,
   "metadata": {
    "collapsed": false
   },
   "outputs": [],
   "source": [
    "m1 = [-2, -2]\n",
    "cov = [[1, 0], [0, 1]] \n",
    "x, y = np.random.multivariate_normal(m1, cov, 50).T"
   ]
  },
  {
   "cell_type": "code",
   "execution_count": 58,
   "metadata": {
    "collapsed": true
   },
   "outputs": [],
   "source": [
    "m2 = [2, 2]\n",
    "cov = [[1, 0], [0, 1]] \n",
    "a, b = np.random.multivariate_normal(m2, cov, 50).T"
   ]
  },
  {
   "cell_type": "code",
   "execution_count": 59,
   "metadata": {
    "collapsed": false
   },
   "outputs": [
    {
     "data": {
      "image/png": "[encoded data removed]",
      "text/plain": [
       "<matplotlib.figure.Figure at 0x111e65550>"
      ]
     },
     "metadata": {},
     "output_type": "display_data"
    }
   ],
   "source": [
    "plt.scatter(x, y);\n",
    "plt.scatter(a, b, c='red');"
   ]
  },
  {
   "cell_type": "code",
   "execution_count": null,
   "metadata": {
    "collapsed": true
   },
   "outputs": [],
   "source": [
    "def euclidean_dist(X, Y):\n",
    "    \"\"\" Computes the euclidean distance\n",
    "    Args:\n",
    "        X: matrix of training data\n",
    "        Y: matrix of test data\n",
    "    Returns:\n",
    "        dists: matrix of euclidean distances\n",
    "    \"\"\"\n",
    "    a = np.dot(X, X.T)\n",
    "    b = np.dot(X, Y.T)\n",
    "    c = np.dot(Y, Y.T)\n",
    "    ad = np.tile(np.diagonal(a), (Y.shape[0] ,1))\n",
    "    cd = np.tile(np.diagonal(c), (1, X.shape[0]))\n",
    "\n",
    "    return ad.T - 2 * b + cd\n",
    "\n",
    "\n",
    "def nearest_neighbors(testdata, trainingdata, traininglabels):\n",
    "    dists = euclidean_dist(trainingdata, testdata)\n",
    "    nnixs = np.argmin(dists, axis=1)\n",
    "    preds = [traininglabels[ix][0] for ix in nnixs]\n",
    "\n",
    "    return preds"
   ]
  },
  {
   "cell_type": "code",
   "execution_count": null,
   "metadata": {
    "collapsed": true
   },
   "outputs": [],
   "source": []
  }
 ],
 "metadata": {
  "kernelspec": {
   "display_name": "Python 2",
   "language": "python",
   "name": "python2"
  },
  "language_info": {
   "codemirror_mode": {
    "name": "ipython",
    "version": 2
   },
   "file_extension": ".py",
   "mimetype": "text/x-python",
   "name": "python",
   "nbconvert_exporter": "python",
   "pygments_lexer": "ipython2",
   "version": "2.7.10"
  }
 },
 "nbformat": 4,
 "nbformat_minor": 0
}
