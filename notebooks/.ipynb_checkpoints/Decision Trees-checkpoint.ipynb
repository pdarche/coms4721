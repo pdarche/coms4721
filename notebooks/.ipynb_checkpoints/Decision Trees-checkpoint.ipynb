{
 "cells": [
  {
   "cell_type": "code",
   "execution_count": 91,
   "metadata": {
    "collapsed": true
   },
   "outputs": [],
   "source": [
    "from __future__ import division\n",
    "import itertools\n",
    "\n",
    "import numpy as np\n",
    "import pandas as pd\n",
    "import seaborn as sns\n",
    "import sklearn"
   ]
  },
  {
   "cell_type": "code",
   "execution_count": 47,
   "metadata": {
    "collapsed": true
   },
   "outputs": [],
   "source": [
    "train_income=['Low','Medium','Low','High','Low','High','Medium','Medium','High','Low','Medium',\n",
    "'Medium','High','Low','Medium']\n",
    "\n",
    "train_age = ['Old','Young','Old','Young','Old','Young','Young','Old','Old','Old','Young','Old',\n",
    "'Old','Old','Young']\n",
    "\n",
    "train_education = ['University','College','University','University','University','College','College',\n",
    "'High School','University','High School','College','High School','University','High School','College']\n",
    "\n",
    "train_marital = ['Married','Single','Married','Single','Married','Single','Married','Single','Single',\n",
    "'Married','Married','Single','Single','Married','Married']\n",
    "\n",
    "train_usage = ['Low','High','Low','High','Low','Low','High','Low','High','Low','High','Low',\n",
    "'High','Low','Low']"
   ]
  },
  {
   "cell_type": "code",
   "execution_count": 155,
   "metadata": {
    "collapsed": false
   },
   "outputs": [],
   "source": [
    "X = np.array([train_marital, train_age, train_income, train_education]).T"
   ]
  },
  {
   "cell_type": "code",
   "execution_count": 156,
   "metadata": {
    "collapsed": true
   },
   "outputs": [],
   "source": [
    "y = np.array(train_usage)"
   ]
  },
  {
   "cell_type": "code",
   "execution_count": 251,
   "metadata": {
    "collapsed": false
   },
   "outputs": [],
   "source": [
    "def create_feature_value_sets(feature, labels):\n",
    "    feature_label_pairs = zip(feature, labels)\n",
    "    unique_values = np.unique(feature)\n",
    "    sets = [[tup for tup in feature_label_pairs if tup[0] == value]\n",
    "            for value in unique_values]    \n",
    "    \n",
    "    return sets"
   ]
  },
  {
   "cell_type": "code",
   "execution_count": 249,
   "metadata": {
    "collapsed": false
   },
   "outputs": [],
   "source": [
    "def compute_max_prop(feature_values):\n",
    "    groups = []\n",
    "    uniquekeys = []\n",
    "    data = sorted([f[1] for f in feature_values])\n",
    "    for k, g in itertools.groupby(data):\n",
    "        groups.append(len(list(g)))\n",
    "        uniquekeys.append(k)\n",
    "    max_ix = np.argmax(groups)\n",
    "    max_prop = groups[max_ix] / len(data)\n",
    "\n",
    "    return max_prop"
   ]
  },
  {
   "cell_type": "code",
   "execution_count": 250,
   "metadata": {
    "collapsed": true
   },
   "outputs": [],
   "source": [
    "def score(X, y):\n",
    "    fvs = create_feature_value_sets(X, y)\n",
    "    scores = [compute_max_prop(fv) for fv in fvs]\n",
    "    \n",
    "    return sum(scores)"
   ]
  },
  {
   "cell_type": "code",
   "execution_count": 246,
   "metadata": {
    "collapsed": false
   },
   "outputs": [],
   "source": [
    "def find_next_best_question(remaining_features, labels):\n",
    "    scores = []\n",
    "    for feature_ix in range(0, remaining_features.shape[0]):\n",
    "        feature = remaining_features[feature_ix,:]\n",
    "        score_ = score(feature, labels)\n",
    "        scores.append(score_)\n",
    "    \n",
    "    # find the feature with the max score\n",
    "    best_feature_ix = np.argmax(scores)\n",
    "    # subsets of the data by feature_value\n",
    "    return best_feature_ix"
   ]
  },
  {
   "cell_type": "code",
   "execution_count": null,
   "metadata": {
    "collapsed": true
   },
   "outputs": [],
   "source": []
  },
  {
   "cell_type": "code",
   "execution_count": null,
   "metadata": {
    "collapsed": true
   },
   "outputs": [],
   "source": [
    "def decision_tree_train(data, remaining_features):\n",
    "    guess = most_frequent_answer_in_data\n",
    "    if labels_are_unambiguous:\n",
    "        return leaf(guess)\n",
    "    elif remaining_features_is_empty:\n",
    "        return leaf(guess)\n",
    "    else:\n",
    "        scores = []\n",
    "        for feature in features:\n",
    "            yes = [d for d in data where d]\n",
    "            no = [d for d in data where !d]\n",
    "            scores = [sum(no) + sum(yes)]\n",
    "        \n",
    "        f = max_score(scores)\n",
    "        no = [d for d in data where d]\n",
    "        yes = [d for d in data where !d]\n",
    "    "
   ]
  },
  {
   "cell_type": "code",
   "execution_count": null,
   "metadata": {
    "collapsed": true
   },
   "outputs": [],
   "source": [
    "def make_tree(X, y):\n",
    "    return"
   ]
  },
  {
   "cell_type": "code",
   "execution_count": null,
   "metadata": {
    "collapsed": true
   },
   "outputs": [],
   "source": [
    "def gain():\n",
    "    return"
   ]
  },
  {
   "cell_type": "code",
   "execution_count": null,
   "metadata": {
    "collapsed": true
   },
   "outputs": [],
   "source": [
    "def classification_error():\n",
    "    return"
   ]
  },
  {
   "cell_type": "code",
   "execution_count": 15,
   "metadata": {
    "collapsed": true
   },
   "outputs": [],
   "source": [
    "def gini_index():\n",
    "    return"
   ]
  },
  {
   "cell_type": "code",
   "execution_count": 230,
   "metadata": {
    "collapsed": true
   },
   "outputs": [],
   "source": [
    "def entropy(p):\n",
    "    if p != 0:\n",
    "        return -p * np.log2(p)\n",
    "    else:\n",
    "        return 0"
   ]
  },
  {
   "cell_type": "code",
   "execution_count": null,
   "metadata": {
    "collapsed": true
   },
   "outputs": [],
   "source": []
  }
 ],
 "metadata": {
  "kernelspec": {
   "display_name": "Python 2",
   "language": "python",
   "name": "python2"
  },
  "language_info": {
   "codemirror_mode": {
    "name": "ipython",
    "version": 2
   },
   "file_extension": ".py",
   "mimetype": "text/x-python",
   "name": "python",
   "nbconvert_exporter": "python",
   "pygments_lexer": "ipython2",
   "version": "2.7.10"
  }
 },
 "nbformat": 4,
 "nbformat_minor": 0
}
