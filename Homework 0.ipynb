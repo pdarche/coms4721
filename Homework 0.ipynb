{
 "cells": [
  {
   "cell_type": "code",
   "execution_count": 1,
   "metadata": {
    "collapsed": true
   },
   "outputs": [],
   "source": [
    "import numpy as np"
   ]
  },
  {
   "cell_type": "code",
   "execution_count": 2,
   "metadata": {
    "collapsed": false
   },
   "outputs": [
    {
     "data": {
      "text/plain": [
       "1.4142135623730951"
      ]
     },
     "execution_count": 2,
     "metadata": {},
     "output_type": "execute_result"
    }
   ],
   "source": [
    "np.sqrt(2)"
   ]
  },
  {
   "cell_type": "code",
   "execution_count": 49,
   "metadata": {
    "collapsed": false
   },
   "outputs": [],
   "source": [
    "a = np.matrix(\"\"\"\n",
    "    1,0,0,0,0,0;  \n",
    "    0,1/np.sqrt(2),1/np.sqrt(2),0,0,0; \n",
    "    0,1/np.sqrt(2),-1/np.sqrt(2),0,0,0;\n",
    "    0,0,0,1/np.sqrt(2),1/np.sqrt(2),0;\n",
    "    0,0,0,1/np.sqrt(2),-1/np.sqrt(2),0;\n",
    "    0,0,0,0,0,1\n",
    "    \"\"\")"
   ]
  },
  {
   "cell_type": "code",
   "execution_count": 50,
   "metadata": {
    "collapsed": false
   },
   "outputs": [],
   "source": [
    "b = np.matrix(\"\"\"\n",
    "    -1,0,0,0,0,0;\n",
    "    0,1/2,0,0,0,0;\n",
    "    0,0,1/2,0,0,0;\n",
    "    0,0,0,1/4,0,0;\n",
    "    0,0,0,0,0,0;\n",
    "    0,0,0,0,0,1/4\"\"\"\n",
    ")"
   ]
  },
  {
   "cell_type": "code",
   "execution_count": 51,
   "metadata": {
    "collapsed": true
   },
   "outputs": [],
   "source": [
    "c = np.matrix(\"\"\"\n",
    "    1,0,0,0,0,0;  \n",
    "    0,1/np.sqrt(2),1/np.sqrt(2),0,0,0; \n",
    "    0,1/np.sqrt(2),-1/np.sqrt(2),0,0,0;\n",
    "    0,0,0,1/np.sqrt(2),1/np.sqrt(2),0;\n",
    "    0,0,0,1/np.sqrt(2),-1/np.sqrt(2),0;\n",
    "    0,0,0,0,0,1\n",
    "    \"\"\")"
   ]
  },
  {
   "cell_type": "code",
   "execution_count": 70,
   "metadata": {
    "collapsed": true
   },
   "outputs": [],
   "source": [
    "d = np.matrix(\"\"\"\n",
    "    -1,0,0,0,0,0;\n",
    "    0,.5,0,0,0,0;\n",
    "    0,0,-.5,0,0,0;\n",
    "    0,0,0,.25,.25,0;\n",
    "    0,0,0,0,0,0;\n",
    "    0,0,0,0,0,.25\n",
    "\"\"\")"
   ]
  },
  {
   "cell_type": "code",
   "execution_count": 71,
   "metadata": {
    "collapsed": false
   },
   "outputs": [
    {
     "data": {
      "text/plain": [
       "5"
      ]
     },
     "execution_count": 71,
     "metadata": {},
     "output_type": "execute_result"
    }
   ],
   "source": [
    "np.linalg.matrix_rank(d)"
   ]
  },
  {
   "cell_type": "code",
   "execution_count": 65,
   "metadata": {
    "collapsed": false
   },
   "outputs": [
    {
     "data": {
      "text/plain": [
       "matrix([[-1.  ,  0.  ,  0.  ,  0.  ,  0.  ,  0.  ],\n",
       "        [ 0.  ,  0.5 ,  0.  ,  0.  ,  0.  ,  0.  ],\n",
       "        [ 0.  ,  0.  , -0.5 ,  0.  ,  0.  ,  0.  ],\n",
       "        [ 0.  ,  0.  ,  0.  ,  0.25,  0.  ,  0.  ],\n",
       "        [ 0.  ,  0.  ,  0.  ,  0.  ,  0.  ,  0.  ],\n",
       "        [ 0.  ,  0.  ,  0.  ,  0.  ,  0.  ,  0.25]])"
      ]
     },
     "execution_count": 65,
     "metadata": {},
     "output_type": "execute_result"
    }
   ],
   "source": [
    "d"
   ]
  },
  {
   "cell_type": "code",
   "execution_count": 52,
   "metadata": {
    "collapsed": false
   },
   "outputs": [],
   "source": [
    "A = a * b * c"
   ]
  },
  {
   "cell_type": "code",
   "execution_count": 73,
   "metadata": {
    "collapsed": false
   },
   "outputs": [
    {
     "data": {
      "text/plain": [
       "2"
      ]
     },
     "execution_count": 73,
     "metadata": {},
     "output_type": "execute_result"
    }
   ],
   "source": [
    "# np.linalg.eig()\n",
    "np.linalg.matrix_rank(d[3:])"
   ]
  },
  {
   "cell_type": "code",
   "execution_count": 68,
   "metadata": {
    "collapsed": false
   },
   "outputs": [
    {
     "data": {
      "text/plain": [
       "(array([-1.      ,  0.125   , -0.125   ,  0.015625,  0.      ,  0.015625]),\n",
       " matrix([[ 1.,  0.,  0.,  0.,  0.,  0.],\n",
       "         [ 0.,  1.,  0.,  0.,  0.,  0.],\n",
       "         [ 0.,  0.,  1.,  0.,  0.,  0.],\n",
       "         [ 0.,  0.,  0.,  1.,  0.,  0.],\n",
       "         [ 0.,  0.,  0.,  0.,  1.,  0.],\n",
       "         [ 0.,  0.,  0.,  0.,  0.,  1.]]))"
      ]
     },
     "execution_count": 68,
     "metadata": {},
     "output_type": "execute_result"
    }
   ],
   "source": [
    "np.linalg.eig(d * d * d)"
   ]
  },
  {
   "cell_type": "code",
   "execution_count": null,
   "metadata": {
    "collapsed": true
   },
   "outputs": [],
   "source": []
  }
 ],
 "metadata": {
  "kernelspec": {
   "display_name": "Python 2",
   "language": "python",
   "name": "python2"
  },
  "language_info": {
   "codemirror_mode": {
    "name": "ipython",
    "version": 2
   },
   "file_extension": ".py",
   "mimetype": "text/x-python",
   "name": "python",
   "nbconvert_exporter": "python",
   "pygments_lexer": "ipython2",
   "version": "2.7.10"
  }
 },
 "nbformat": 4,
 "nbformat_minor": 0
}
