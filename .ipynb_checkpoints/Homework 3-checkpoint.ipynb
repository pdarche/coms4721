{
 "cells": [
  {
   "cell_type": "code",
   "execution_count": 85,
   "metadata": {
    "collapsed": true
   },
   "outputs": [],
   "source": [
    "from __future__ import division\n",
    "import warnings\n",
    "warnings.filterwarnings('ignore')\n",
    "\n",
    "import pandas as pd\n",
    "import numpy as np\n",
    "import matplotlib.pyplot as plt\n",
    "from matplotlib import cm\n",
    "import seaborn as sns"
   ]
  },
  {
   "cell_type": "code",
   "execution_count": 86,
   "metadata": {
    "collapsed": false
   },
   "outputs": [
    {
     "name": "stdout",
     "output_type": "stream",
     "text": [
      "Populating the interactive namespace from numpy and matplotlib\n"
     ]
    }
   ],
   "source": [
    "%pylab inline"
   ]
  },
  {
   "cell_type": "code",
   "execution_count": 87,
   "metadata": {
    "collapsed": true
   },
   "outputs": [],
   "source": [
    "from scipy.io import loadmat\n",
    "housing = loadmat('./homework3/data/housing.mat')"
   ]
  },
  {
   "cell_type": "code",
   "execution_count": 88,
   "metadata": {
    "collapsed": true
   },
   "outputs": [],
   "source": [
    "# Info about the dataset\n",
    "# https://archive.ics.uci.edu/ml/datasets/Housing\n",
    "# Gelman on Standardization: \n",
    "# http://www.stat.columbia.edu/~gelman/research/published/standardizing7.pdf\n",
    "# Stats Overflow on standardization:\n",
    "# http://stats.stackexchange.com/questions/7112/when-and-how-to-use-standardized-explanatory-variables-in-linear-regression"
   ]
  },
  {
   "cell_type": "markdown",
   "metadata": {},
   "source": [
    "### Problem 2"
   ]
  },
  {
   "cell_type": "code",
   "execution_count": 89,
   "metadata": {
    "collapsed": false
   },
   "outputs": [],
   "source": [
    "# mvn = np.random.multivariate_normal([.5, .5], [[0, 0], [.75, .75]], 100)\n",
    "# plt.scatter(mvn[:, 0], mvn[:, 1])"
   ]
  },
  {
   "cell_type": "code",
   "execution_count": 90,
   "metadata": {
    "collapsed": false
   },
   "outputs": [],
   "source": [
    "m = 16\n",
    "n = 100\n",
    "X = np.random.rand(n, 1) # create n random datapoints\n",
    "y = np.random.random(size=n) # create y random labels between [0,1]\n",
    "# y = [.01] * n\n",
    "# y = [.99] * n\n",
    "# y = ([.99] * 25) + ([.25] * 25) + ([.99] * 25) + ([.25] * 25)\n",
    "Q = [[] for j in range(m)] # initialize m target datasets"
   ]
  },
  {
   "cell_type": "code",
   "execution_count": 91,
   "metadata": {
    "collapsed": false
   },
   "outputs": [],
   "source": [
    "# Instance Mapping Procedure\n",
    "for j in range(m):\n",
    "    for i, data_point in enumerate(X):\n",
    "        z = 1 if y[i] >= np.float(j/m) else 0\n",
    "        Q[j].append((data_point, z))"
   ]
  },
  {
   "cell_type": "code",
   "execution_count": 92,
   "metadata": {
    "collapsed": false
   },
   "outputs": [
    {
     "data": {
      "text/plain": [
       "<matplotlib.collections.PathCollection at 0x10de3cfd0>"
      ]
     },
     "execution_count": 92,
     "metadata": {},
     "output_type": "execute_result"
    },
    {
     "data": {
      "image/png": "[encoded data removed]",
      "text/plain": [
       "<matplotlib.figure.Figure at 0x10d1de590>"
      ]
     },
     "metadata": {},
     "output_type": "display_data"
    }
   ],
   "source": [
    "plt.scatter(X, y)"
   ]
  },
  {
   "cell_type": "code",
   "execution_count": 93,
   "metadata": {
    "collapsed": false
   },
   "outputs": [],
   "source": [
    "ys = [[d[1] for d in s] for s in Q]"
   ]
  },
  {
   "cell_type": "code",
   "execution_count": 94,
   "metadata": {
    "collapsed": false
   },
   "outputs": [
    {
     "data": {
      "text/plain": [
       "<matplotlib.text.Text at 0x10ded5a90>"
      ]
     },
     "execution_count": 94,
     "metadata": {},
     "output_type": "execute_result"
    },
    {
     "data": {
      "image/png": "[encoded data removed]",
      "text/plain": [
       "<matplotlib.figure.Figure at 0x10cad9490>"
      ]
     },
     "metadata": {},
     "output_type": "display_data"
    }
   ],
   "source": [
    "pd.DataFrame(ys).T.sum().plot(kind='bar').set_title('z proportions')"
   ]
  },
  {
   "cell_type": "markdown",
   "metadata": {},
   "source": [
    "### Problem 2(a)\n",
    "Q) To analyze how this reduction behaves, we will consider the idealized scenario where we actually have “access” to the distribution P, as well as the distributions Q1, Q2, . . . , Qm implicitly constructed by the instance mapping procedure.\n",
    "\n",
    "A) We can think of regression as conditional means, that is estimate the mean given a particular input value.  What we're doing in this reduction is converting x values into classes and creating class conditional distributions for each class and then binary predictors to estimate whether or not the value is part of the class. P is a sort of limit, where there are an infinite number of classes and would give usthe actual means of these "
   ]
  },
  {
   "cell_type": "markdown",
   "metadata": {},
   "source": [
    "### Problem 3"
   ]
  },
  {
   "cell_type": "code",
   "execution_count": 98,
   "metadata": {
    "collapsed": true
   },
   "outputs": [],
   "source": [
    "from sklearn import linear_model"
   ]
  },
  {
   "cell_type": "code",
   "execution_count": 134,
   "metadata": {
    "collapsed": false
   },
   "outputs": [],
   "source": [
    "X_train = housing['data']\n",
    "y_train = housing['labels']\n",
    "\n",
    "X_test = housing['testdata']\n",
    "y_test = housing['testlabels']"
   ]
  },
  {
   "cell_type": "markdown",
   "metadata": {},
   "source": [
    "### Problem 3 (a)"
   ]
  },
  {
   "cell_type": "code",
   "execution_count": 100,
   "metadata": {
    "collapsed": false
   },
   "outputs": [
    {
     "data": {
      "text/plain": [
       "array([ 22.57470356])"
      ]
     },
     "execution_count": 100,
     "metadata": {},
     "output_type": "execute_result"
    }
   ],
   "source": [
    "# (a) Compute the ordinary least squares (OLS) estimator based on the training data. (You can\n",
    "# use whatever software you like to do this.) Here, you should consider the model that also\n",
    "# incorporates the intercept parameter. What is the numerical value of the intercept term?\n",
    "# How is it related to the training labels? Justify your answer.\n",
    "\n",
    "ols_clf = linear_model.LinearRegression()\n",
    "ols_clf.fit(X_train, y_train)\n",
    "ols_clf.intercept_\n",
    "\n",
    "# Explanation:\n",
    "# The intercept is: 22.57470356.  This number is equal to the the mean (22.57470355) of the training outcomes, \n",
    "# which makes sense given that the data has been standardized.  In effect, the standardization process has \n",
    "# shifted the data so the mean of the output is centered around 0.  Without considering any other factors, \n",
    "# you'd expect the value of the house to be the expected value of the dataset.  "
   ]
  },
  {
   "cell_type": "code",
   "execution_count": null,
   "metadata": {
    "collapsed": true
   },
   "outputs": [],
   "source": []
  },
  {
   "cell_type": "markdown",
   "metadata": {},
   "source": [
    "### Problem 3 (b)"
   ]
  },
  {
   "cell_type": "code",
   "execution_count": 101,
   "metadata": {
    "collapsed": false
   },
   "outputs": [
    {
     "name": "stdout",
     "output_type": "stream",
     "text": [
      "Training MSE: 22.1037987797\n",
      "Testing MSE 24.4065641284\n",
      "\n"
     ]
    }
   ],
   "source": [
    "# (b) What is the average squared loss of the OLS estimator (from part (a)) on the training data?\n",
    "# And on the test data?\n",
    "train_mse = np.mean((ols_clf.predict(X_train) - y_train) ** 2)\n",
    "test_mse = np.mean((ols_clf.predict(X_test) - y_test) ** 2)\n",
    "\n",
    "print \"\"\"Training MSE: {}\\nTesting MSE {}\n",
    "\"\"\".format(train_mse, test_mse)"
   ]
  },
  {
   "cell_type": "code",
   "execution_count": 148,
   "metadata": {
    "collapsed": true
   },
   "outputs": [],
   "source": [
    "def mse_errors(clf, clf_name, X_train, y_train, X_test, y_test):\n",
    "    train_mse = np.mean((clf.predict(X_train) - y_train) ** 2)\n",
    "    test_mse = np.mean((clf.predict(X_test) - y_test) ** 2)\n",
    "\n",
    "    print \"\"\"{} Training MSE: {}\\n {} Testing MSE {}\n",
    "    \"\"\".format(clf_name, train_mse, clf_name, test_mse)   "
   ]
  },
  {
   "cell_type": "markdown",
   "metadata": {},
   "source": [
    "### Problem 3 (c)\n",
    " - Read this!!: http://scikit-learn.org/stable/auto_examples/linear_model/plot_sparse_recovery.html"
   ]
  },
  {
   "cell_type": "code",
   "execution_count": 102,
   "metadata": {
    "collapsed": true
   },
   "outputs": [],
   "source": [
    "# (c) Use some existing software package to compute a sparse weight vector with at most three nonzero\n",
    "# entries (not including the “intercept”). This should be done just using the training data.\n",
    "# Report what software (e.g., the specific MATLAB/Python function) you used, and the names\n",
    "# of the variables (as given in https://archive.ics.uci.edu/ml/machine-learning-databases/\n",
    "# housing/housing.names) that have non-zero weight. Do these make sense to you?\n",
    "# Some suggested methods to use: Lasso, LARS (which is actually an algorithm for solving the\n",
    "# Lasso optimization problem with some additional convenient properties), stepwise regression,\n",
    "# orthogonal matching pursuit."
   ]
  },
  {
   "cell_type": "code",
   "execution_count": 201,
   "metadata": {
    "collapsed": false
   },
   "outputs": [],
   "source": [
    "# Attribute Information\n",
    "# 0. Column of 1s to facilitate intercepts\n",
    "# 1. CRIM: per capita crime rate by town \n",
    "# 2. ZN: proportion of residential land zoned for lots over 25,000 sq.ft. \n",
    "# 3. INDUS: proportion of non-retail business acres per town \n",
    "# 4. CHAS: Charles River dummy variable (= 1 if tract bounds river; 0 otherwise) \n",
    "# 5. NOX: nitric oxides concentration (parts per 10 million) \n",
    "# 6. RM: average number of rooms per dwelling \n",
    "# 7. AGE: proportion of owner-occupied units built prior to 1940 \n",
    "# 8. DIS: weighted distances to five Boston employment centres \n",
    "# 9. RAD: index of accessibility to radial highways \n",
    "# 10. TAX: full-value property-tax rate per $10,000\n",
    "# 11. PTRATIO: pupil-teacher ratio by town \n",
    "# 12. B: 1000(Bk - 0.63)^2 where Bk is the proportion of blacks by town \n",
    "# 13. LSTAT: % lower status of the population\n",
    "# 14. MEDV: Median value of owner-occupied homes in $1000's\n",
    "\n",
    "cols = np.array(['INT', 'CRIM', 'ZN', 'INDUS', 'CHAS', 'NOX', 'RM', 'AGE', 'DIS', 'RAD', 'TAX', 'PTRATIO', 'B', 'LSTAT'])\n",
    "df_train = pd.DataFrame(X_train, columns=cols)\n",
    "df_test = pd.DataFrame(X_test, columns=cols)\n",
    "ser_train = pd.Series([y[0] for y in y_train])"
   ]
  },
  {
   "cell_type": "code",
   "execution_count": 139,
   "metadata": {
    "collapsed": false
   },
   "outputs": [],
   "source": [
    "df_trainC = df_train.ix[:, 1:]\n",
    "df_testC = df_test.ix[:, 1:]"
   ]
  },
  {
   "cell_type": "code",
   "execution_count": 173,
   "metadata": {
    "collapsed": false
   },
   "outputs": [],
   "source": [
    "def create_ranom_sparse_df(train_df, test_df, n_cols):\n",
    "    train_zeros = np.zeros(train_df.shape)\n",
    "    test_zeros = np.zeros(test_df.shape)\n",
    "    col_ixs = np.random.choice(range(0, len(train_df.columns)), n_cols)\n",
    "    for ix in col_ixs:\n",
    "        train_zeros[:, ix] = train_df.ix[:, ix].values\n",
    "        test_zeros[:, ix] = test_df.ix[:, ix].values\n",
    "    train_data = pd.DataFrame(train_zeros, columns=train_df.columns)\n",
    "    test_data = pd.DataFrame(test_zeros, columns=test_df.columns)\n",
    "    cols = train_data.ix[:, col_ixs].columns\n",
    "    return (train_data, test_data, cols)"
   ]
  },
  {
   "cell_type": "code",
   "execution_count": 175,
   "metadata": {
    "collapsed": false
   },
   "outputs": [],
   "source": [
    "X_train3, X_test3, train_cols = create_ranom_sparse_df(df_trainC, df_testC, 3)"
   ]
  },
  {
   "cell_type": "code",
   "execution_count": 207,
   "metadata": {
    "collapsed": false
   },
   "outputs": [
    {
     "name": "stdout",
     "output_type": "stream",
     "text": [
      "['RM' 'PTRATIO' 'LSTAT']\n"
     ]
    }
   ],
   "source": [
    "# Lasso:\n",
    "# http://scikit-learn.org/stable/modules/generated/sklearn.linear_model.Lasso.html\n",
    "lasso_clf = linear_model.Lasso(alpha=2.5)\n",
    "lasso_clf.fit(X_train, y_train)\n",
    "non_zero_coef = np.where(lasso_clf.coef_ != 0)\n",
    "print cols[non_zero_coef]"
   ]
  },
  {
   "cell_type": "code",
   "execution_count": 210,
   "metadata": {
    "collapsed": false
   },
   "outputs": [
    {
     "name": "stdout",
     "output_type": "stream",
     "text": [
      "['RM' 'PTRATIO' 'LSTAT']\n"
     ]
    }
   ],
   "source": [
    "# LARS: \n",
    "# http://scikit-learn.org/stable/modules/generated/sklearn.linear_model.Lars.html\n",
    "lars_clf = linear_model.Lars(n_nonzero_coefs=3)\n",
    "lars_clf.fit(X_train, y_train)\n",
    "non_zero_coef = np.where(lars_clf.coef_ != 0)\n",
    "print cols[non_zero_coef]"
   ]
  },
  {
   "cell_type": "code",
   "execution_count": 206,
   "metadata": {
    "collapsed": false
   },
   "outputs": [
    {
     "name": "stdout",
     "output_type": "stream",
     "text": [
      "['ZN' 'INDUS' 'PTRATIO']\n"
     ]
    }
   ],
   "source": [
    "# Orthogonal Matching Pursuit\n",
    "# http://scikit-learn.org/stable/modules/generated/sklearn.linear_model.OrthogonalMatchingPursuit.html\n",
    "omp_clf = linear_model.OrthogonalMatchingPursuit(n_nonzero_coefs=3)\n",
    "omp_clf.fit(X_train3, y_train)\n",
    "non_zero_coef = np.where(omp_clf.coef_ != 0)\n",
    "print cols[non_zero_coef]"
   ]
  },
  {
   "cell_type": "code",
   "execution_count": 219,
   "metadata": {
    "collapsed": false
   },
   "outputs": [
    {
     "data": {
      "text/plain": [
       "[(array([ 6, 11, 13]),)]"
      ]
     },
     "execution_count": 219,
     "metadata": {},
     "output_type": "execute_result"
    }
   ],
   "source": [
    "non_zero_coef"
   ]
  },
  {
   "cell_type": "code",
   "execution_count": 218,
   "metadata": {
    "collapsed": false
   },
   "outputs": [
    {
     "data": {
      "text/plain": [
       "0     0.000000\n",
       "1    -0.048459\n",
       "2     1.369026\n",
       "3     0.216991\n",
       "4     1.365418\n",
       "5    -2.280908\n",
       "6     1.767480\n",
       "7     0.418699\n",
       "8    -3.399987\n",
       "9     2.244171\n",
       "10   -2.012603\n",
       "11   -1.838499\n",
       "12    0.668673\n",
       "13   -4.608664\n",
       "dtype: float64"
      ]
     },
     "execution_count": 218,
     "metadata": {},
     "output_type": "execute_result"
    }
   ],
   "source": [
    "pd.Series(ols_clf.coef_[0])"
   ]
  },
  {
   "cell_type": "code",
   "execution_count": 193,
   "metadata": {
    "collapsed": false
   },
   "outputs": [],
   "source": [
    "# mse_errors(lasso_clf, 'LASSO', X_train, y_train, X_test, y_test)\n",
    "# mse_errors(lars_clf, 'LARS', X_train, y_train, X_test, y_test)\n",
    "# mse_errors(omp_clf, 'OMP', X_train, y_train, X_test, y_test)"
   ]
  }
 ],
 "metadata": {
  "kernelspec": {
   "display_name": "Python 2",
   "language": "python",
   "name": "python2"
  },
  "language_info": {
   "codemirror_mode": {
    "name": "ipython",
    "version": 2
   },
   "file_extension": ".py",
   "mimetype": "text/x-python",
   "name": "python",
   "nbconvert_exporter": "python",
   "pygments_lexer": "ipython2",
   "version": "2.7.10"
  }
 },
 "nbformat": 4,
 "nbformat_minor": 0
}
